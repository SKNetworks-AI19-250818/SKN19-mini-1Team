{
 "cells": [
  {
   "cell_type": "code",
   "execution_count": 33,
   "id": "07112639",
   "metadata": {},
   "outputs": [],
   "source": [
    "import pandas as pd\n",
    "import numpy as np\n",
    "import xgboost as xgb\n",
    "import matplotlib.pyplot as plt\n",
    "\n",
    "\n",
    "from sklearn.model_selection import StratifiedKFold, train_test_split\n",
    "from sklearn.compose import ColumnTransformer\n",
    "from sklearn.preprocessing import OneHotEncoder\n",
    "from sklearn.pipeline import Pipeline\n",
    "from sklearn.metrics import (\n",
    "    accuracy_score, precision_score, recall_score, f1_score, roc_auc_score, confusion_matrix\n",
    ")\n",
    "from xgboost import XGBClassifier\n",
    "from xgboost.callback import EarlyStopping\n"
   ]
  },
  {
   "cell_type": "code",
   "execution_count": 4,
   "id": "e8421439",
   "metadata": {},
   "outputs": [],
   "source": [
    "# 1) 데이터 로드\n",
    "df = pd.read_csv(\"./data/training/final/travel_insight_pruned.csv\")"
   ]
  },
  {
   "cell_type": "code",
   "execution_count": null,
   "id": "5fe65f74",
   "metadata": {},
   "outputs": [],
   "source": [
    "# 2) 타깃/식별자/피처 분리\n",
    "TARGET = \"IS_FAILED_TRIP\"\n",
    "ID_COLS = [\"TRAVEL_ID\"]\n",
    "assert TARGET in df.columns, f\"{TARGET} 컬럼이 없습니다.\"\n",
    "\n",
    "X = df.drop(ID_COLS + [TARGET], axis=1)\n",
    "y = df[TARGET].astype(int)"
   ]
  },
  {
   "cell_type": "code",
   "execution_count": 6,
   "id": "78dbe75f",
   "metadata": {},
   "outputs": [],
   "source": [
    "# 3) 수치/범주형 컬럼 자동 분류\n",
    "num_cols = X.select_dtypes(include=[np.number]).columns.tolist()\n",
    "cat_cols = X.select_dtypes(exclude=[np.number]).columns.tolist()"
   ]
  },
  {
   "cell_type": "code",
   "execution_count": 7,
   "id": "03b6fd20",
   "metadata": {},
   "outputs": [
    {
     "name": "stdout",
     "output_type": "stream",
     "text": [
      "[Info] class ratio -> pos=251, neg=5508, scale_pos_weight=21.94\n"
     ]
    }
   ],
   "source": [
    "# 4) 클래스 불균형 대응: scale_pos_weight = (neg/pos)\n",
    "pos = y.sum()\n",
    "neg = len(y) - pos\n",
    "scale_pos_weight = (neg / pos) if pos > 0 else 1.0\n",
    "print(f\"[Info] class ratio -> pos={pos}, neg={neg}, scale_pos_weight={scale_pos_weight:.2f}\")"
   ]
  },
  {
   "cell_type": "code",
   "execution_count": null,
   "id": "6a711848",
   "metadata": {},
   "outputs": [],
   "source": [
    "# 5) 전처리 파이프라인 (원-핫 인코딩 + 나머지 수치 피처 그대로)\n",
    "preprocess = ColumnTransformer(\n",
    "    transformers=[\n",
    "        (\"cat\", OneHotEncoder(handle_unknown=\"ignore\", sparse_output=False), cat_cols),\n",
    "    ],\n",
    "    remainder=\"passthrough\"\n",
    ")"
   ]
  },
  {
   "cell_type": "code",
   "execution_count": null,
   "id": "c22dbe1d",
   "metadata": {},
   "outputs": [],
   "source": [
    "# 6) XGBoost 분류기\n",
    "xgb_clf = xgb.XGBClassifier(\n",
    "    n_estimators=2000,\n",
    "    learning_rate=0.05,\n",
    "    max_depth=6,\n",
    "    subsample=0.8,\n",
    "    colsample_bytree=0.8,\n",
    "    reg_lambda=1.0,\n",
    "    random_state=42,\n",
    "    eval_metric=\"logloss\",\n",
    "    tree_method=\"hist\",\n",
    "    scale_pos_weight=scale_pos_weight\n",
    ")\n",
    "\n",
    "pipe = Pipeline([\n",
    "    (\"pre\", preprocess),\n",
    "    (\"model\", xgb_clf),\n",
    "])"
   ]
  },
  {
   "cell_type": "code",
   "execution_count": null,
   "id": "0d21714e",
   "metadata": {},
   "outputs": [
    {
     "name": "stdout",
     "output_type": "stream",
     "text": [
      "[Fold 1] Acc 0.8238 | Prec 0.0581 | Rec 0.1961 | F1 0.0897 | AUC 0.6576\n",
      "[Fold 2] Acc 0.8238 | Prec 0.0726 | Rec 0.2600 | F1 0.1135 | AUC 0.6395\n",
      "[Fold 3] Acc 0.8125 | Prec 0.0489 | Rec 0.1800 | F1 0.0769 | AUC 0.5832\n",
      "[Fold 4] Acc 0.8359 | Prec 0.0629 | Rec 0.2000 | F1 0.0957 | AUC 0.6390\n",
      "[Fold 5] Acc 0.8480 | Prec 0.0748 | Rec 0.2200 | F1 0.1117 | AUC 0.6148\n"
     ]
    }
   ],
   "source": [
    "# 7) Stratified K-Fold + 조기종료\n",
    "skf = StratifiedKFold(n_splits=5, shuffle=True, random_state=42)\n",
    "\n",
    "metrics = {\"acc\": [], \"prec\": [], \"rec\": [], \"f1\": [], \"auc\": []}\n",
    "\n",
    "for fold, (tr_idx, va_idx) in enumerate(skf.split(X, y), start=1):\n",
    "    X_tr, X_va = X.iloc[tr_idx], X.iloc[va_idx]\n",
    "    y_tr, y_va = y.iloc[tr_idx], y.iloc[va_idx]\n",
    "\n",
    "    pipe[\"pre\"].fit(X_tr)\n",
    "    X_tr_enc = pipe[\"pre\"].transform(X_tr)\n",
    "    X_va_enc = pipe[\"pre\"].transform(X_va)\n",
    "\n",
    "    dtrain = xgb.DMatrix(X_tr_enc, label=y_tr)\n",
    "    dvalid = xgb.DMatrix(X_va_enc, label=y_va)\n",
    "\n",
    "    params = {\n",
    "        \"objective\": \"binary:logistic\",\n",
    "        \"eta\": 0.05,                 # learning_rate\n",
    "        \"max_depth\": 6,\n",
    "        \"subsample\": 0.8,\n",
    "        \"colsample_bytree\": 0.8,\n",
    "        \"lambda\": 1.0,               # reg_lambda\n",
    "        \"eval_metric\": \"logloss\",    # 또는 \"auc\"\n",
    "        \"seed\": 42 + fold,\n",
    "        \"scale_pos_weight\": float(scale_pos_weight),\n",
    "    }\n",
    "\n",
    "    booster = xgb.train(\n",
    "        params=params,\n",
    "        dtrain=dtrain,\n",
    "        num_boost_round=2000,\n",
    "        evals=[(dvalid, \"valid\")],\n",
    "        early_stopping_rounds=100,\n",
    "        verbose_eval=False\n",
    "    )\n",
    "\n",
    "    best_trees = getattr(booster, \"best_ntree_limit\", None)\n",
    "    if best_trees is None:\n",
    "        y_proba = booster.predict(dvalid)\n",
    "    else:\n",
    "        y_proba = booster.predict(dvalid, ntree_limit=best_trees)\n",
    "\n",
    "    y_pred = (y_proba >= 0.5).astype(int)\n",
    "\n",
    "    # 메트릭 계산\n",
    "    acc  = accuracy_score(y_va, y_pred)\n",
    "    prec = precision_score(y_va, y_pred, zero_division=0)\n",
    "    rec  = recall_score(y_va, y_pred)\n",
    "    f1   = f1_score(y_va, y_pred)\n",
    "    auc  = roc_auc_score(y_va, y_proba)\n",
    "\n",
    "    metrics[\"acc\"].append(acc)\n",
    "    metrics[\"prec\"].append(prec)\n",
    "    metrics[\"rec\"].append(rec)\n",
    "    metrics[\"f1\"].append(f1)\n",
    "    metrics[\"auc\"].append(auc)\n",
    "\n",
    "    print(f\"[Fold {fold}] \"\n",
    "          f\"Acc {acc:.4f} | Prec {prec:.4f} | Rec {rec:.4f} | F1 {f1:.4f} | AUC {auc:.4f}\")"
   ]
  },
  {
   "cell_type": "code",
   "execution_count": 23,
   "id": "b058a4a5",
   "metadata": {},
   "outputs": [
    {
     "name": "stdout",
     "output_type": "stream",
     "text": [
      "\n",
      "=== CV Summary (5-fold) ===\n",
      "Accuracy : 0.8288 ± 0.0121\n",
      "Precision: 0.0635 ± 0.0095\n",
      "Recall   : 0.2112 ± 0.0275\n",
      "F1-score : 0.0975 ± 0.0138\n",
      "ROC-AUC  : 0.6268 ± 0.0257\n"
     ]
    }
   ],
   "source": [
    "# 8) 교차검증 평균/표준편차 요약\n",
    "def ms(arr): \n",
    "    return f\"{np.mean(arr):.4f} ± {np.std(arr):.4f}\"\n",
    "\n",
    "print(\"\\n=== CV Summary (5-fold) ===\")\n",
    "print(\"Accuracy :\", ms(metrics[\"acc\"]))\n",
    "print(\"Precision:\", ms(metrics[\"prec\"]))\n",
    "print(\"Recall   :\", ms(metrics[\"rec\"]))\n",
    "print(\"F1-score :\", ms(metrics[\"f1\"]))\n",
    "print(\"ROC-AUC  :\", ms(metrics[\"auc\"]))"
   ]
  },
  {
   "cell_type": "code",
   "execution_count": null,
   "id": "3f52f5bd",
   "metadata": {},
   "outputs": [
    {
     "name": "stdout",
     "output_type": "stream",
     "text": [
      "\n",
      "[Final/holdout]\n",
      "Accuracy : 0.8298611111111112\n",
      "Precision: 0.054878048780487805\n",
      "Recall   : 0.18\n",
      "F1-score : 0.08411214953271028\n",
      "ROC-AUC  : 0.6036660617059891\n",
      "Confusion Matrix:\n",
      " [[947 155]\n",
      " [ 41   9]]\n",
      "\n",
      "[Top feature importances by gain]\n",
      "visit_move_cnt                                9.315050\n",
      "TRAVEL_LENGTH                                 7.886256\n",
      "total_payment_per_day                         7.190008\n",
      "total_payment                                 6.904657\n",
      "visit_move_cnt_per_day                        6.780916\n",
      "\n",
      "[Saved]\n",
      " - xgb_final.json\n",
      " - preprocessor_ohe.joblib\n"
     ]
    }
   ],
   "source": [
    "# 9) 최종 모델 재학습 (train/valid 스플릿 + 조기종료) 및 저장\n",
    "\n",
    "X_tr_all, X_va_all, y_tr_all, y_va_all = train_test_split(\n",
    "    X, y, test_size=0.2, random_state=42, stratify=y\n",
    ")\n",
    "\n",
    "pre_final = preprocess.fit(X_tr_all)\n",
    "X_tr_all_enc = pre_final.transform(X_tr_all)\n",
    "X_va_all_enc = pre_final.transform(X_va_all)\n",
    "\n",
    "ohe = pre_final.named_transformers_[\"cat\"] if len(cat_cols) > 0 else None\n",
    "if ohe is not None:\n",
    "    try:\n",
    "        ohe_names = ohe.get_feature_names_out(cat_cols).tolist()\n",
    "    except AttributeError:\n",
    "        ohe_names = ohe.get_feature_names(cat_cols).tolist()\n",
    "else:\n",
    "    ohe_names = []\n",
    "feature_names = ohe_names + num_cols\n",
    "\n",
    "dtrain = xgb.DMatrix(X_tr_all_enc, label=y_tr_all, feature_names=feature_names)\n",
    "dvalid = xgb.DMatrix(X_va_all_enc,  label=y_va_all,  feature_names=feature_names)\n",
    "\n",
    "params = {\n",
    "    \"objective\": \"binary:logistic\",\n",
    "    \"eta\": 0.05,\n",
    "    \"max_depth\": 6,\n",
    "    \"subsample\": 0.8,\n",
    "    \"colsample_bytree\": 0.8,\n",
    "    \"lambda\": 1.0,\n",
    "    \"eval_metric\": \"logloss\",\n",
    "    \"seed\": 777,\n",
    "    \"scale_pos_weight\": float(scale_pos_weight),\n",
    "}\n",
    "\n",
    "booster = xgb.train(\n",
    "    params=params,\n",
    "    dtrain=dtrain,\n",
    "    num_boost_round=2000,\n",
    "    evals=[(dvalid, \"valid\")],\n",
    "    early_stopping_rounds=100,\n",
    "    verbose_eval=False\n",
    ")\n",
    "\n",
    "best_trees = getattr(booster, \"best_ntree_limit\", None)\n",
    "if best_trees is None:\n",
    "    y_proba_f = booster.predict(dvalid)\n",
    "else:\n",
    "    y_proba_f = booster.predict(dvalid, ntree_limit=best_trees)\n",
    "y_pred_f = (y_proba_f >= 0.5).astype(int)\n",
    "\n",
    "print(\"\\n[Final/holdout]\")\n",
    "print(\"Accuracy :\", accuracy_score(y_va_all, y_pred_f))\n",
    "print(\"Precision:\", precision_score(y_va_all, y_pred_f, zero_division=0))\n",
    "print(\"Recall   :\", recall_score(y_va_all, y_pred_f))\n",
    "print(\"F1-score :\", f1_score(y_va_all, y_pred_f))\n",
    "print(\"ROC-AUC  :\", roc_auc_score(y_va_all, y_proba_f))\n",
    "print(\"Confusion Matrix:\\n\", confusion_matrix(y_va_all, y_pred_f))\n",
    "\n",
    "importance_gain = booster.get_score(importance_type=\"gain\")\n",
    "\n",
    "top_items = sorted(importance_gain.items(), key=lambda x: x[1], reverse=True)[:30]\n",
    "print(\"\\n[Top feature importances by gain]\")\n",
    "for name, score in top_items:\n",
    "    print(f\"{name:45s} {score:.6f}\")\n",
    "\n",
    "booster.save_model(\"xgb_final.json\")\n",
    "dump(pre_final, \"preprocessor_ohe.joblib\")\n",
    "\n",
    "print(\"\\n[Saved]\")\n",
    "print(\" - xgb_final.json\")\n",
    "print(\" - preprocessor_ohe.joblib\")"
   ]
  },
  {
   "cell_type": "code",
   "execution_count": 37,
   "id": "8ec257bd",
   "metadata": {},
   "outputs": [
    {
     "data": {
      "image/png": "[encoded data removed]",
      "text/plain": [
       "<Figure size 1000x600 with 1 Axes>"
      ]
     },
     "metadata": {},
     "output_type": "display_data"
    }
   ],
   "source": [
    "# 10) 중요도 상위 피처 확인 (원-핫 이름 포함)\n",
    "\n",
    "order = np.argsort(importances)[::-1]\n",
    "K = min(30, len(order))\n",
    "idx = order[:K]\n",
    "\n",
    "plt.figure(figsize=(10, 6))\n",
    "plt.barh(range(K), importances[idx])\n",
    "plt.yticks(range(K), [feature_names[i] for i in idx])\n",
    "plt.gca().invert_yaxis()\n",
    "plt.title(\"Feature Importances (descending)\")\n",
    "plt.tight_layout()\n",
    "plt.show()\n"
   ]
  }
 ],
 "metadata": {
  "kernelspec": {
   "display_name": "Python 3",
   "language": "python",
   "name": "python3"
  },
  "language_info": {
   "codemirror_mode": {
    "name": "ipython",
    "version": 3
   },
   "file_extension": ".py",
   "mimetype": "text/x-python",
   "name": "python",
   "nbconvert_exporter": "python",
   "pygments_lexer": "ipython3",
   "version": "3.13.7"
  }
 },
 "nbformat": 4,
 "nbformat_minor": 5
}
