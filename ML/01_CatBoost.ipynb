{
 "cells": [
  {
   "cell_type": "markdown",
   "metadata": {},
   "source": [
    "# CatBoost with Optuna Hyperparameter Tuning"
   ]
  },
  {
   "cell_type": "code",
   "execution_count": 1,
   "metadata": {},
   "outputs": [],
   "source": [
    "import numpy as np\n",
    "import pandas as pd\n",
    "from sklearn.model_selection import train_test_split\n",
    "from catboost import CatBoostClassifier\n",
    "import matplotlib.pyplot as plt"
   ]
  },
  {
   "cell_type": "code",
   "execution_count": 2,
   "metadata": {},
   "outputs": [
    {
     "data": {
      "text/html": [
       "<div>\n",
       "<style scoped>\n",
       "    .dataframe tbody tr th:only-of-type {\n",
       "        vertical-align: middle;\n",
       "    }\n",
       "\n",
       "    .dataframe tbody tr th {\n",
       "        vertical-align: top;\n",
       "    }\n",
       "\n",
       "    .dataframe thead th {\n",
       "        text-align: right;\n",
       "    }\n",
       "</style>\n",
       "<table border=\"1\" class=\"dataframe\">\n",
       "  <thead>\n",
       "    <tr style=\"text-align: right;\">\n",
       "      <th></th>\n",
       "      <th>TRAVEL_ID</th>\n",
       "      <th>TRAVEL_LENGTH</th>\n",
       "      <th>total_payment</th>\n",
       "      <th>visit_move_cnt</th>\n",
       "      <th>IS_FAILED_TRIP</th>\n",
       "      <th>total_payment_per_day</th>\n",
       "      <th>visit_move_cnt_per_day</th>\n",
       "    </tr>\n",
       "  </thead>\n",
       "  <tbody>\n",
       "    <tr>\n",
       "      <th>0</th>\n",
       "      <td>a_a014262</td>\n",
       "      <td>2</td>\n",
       "      <td>0.014607</td>\n",
       "      <td>5</td>\n",
       "      <td>1</td>\n",
       "      <td>0.246732</td>\n",
       "      <td>2.50</td>\n",
       "    </tr>\n",
       "    <tr>\n",
       "      <th>1</th>\n",
       "      <td>a_a006728</td>\n",
       "      <td>2</td>\n",
       "      <td>-0.310801</td>\n",
       "      <td>5</td>\n",
       "      <td>0</td>\n",
       "      <td>-0.269297</td>\n",
       "      <td>2.50</td>\n",
       "    </tr>\n",
       "    <tr>\n",
       "      <th>2</th>\n",
       "      <td>a_a015745</td>\n",
       "      <td>4</td>\n",
       "      <td>-0.345055</td>\n",
       "      <td>19</td>\n",
       "      <td>0</td>\n",
       "      <td>-0.452622</td>\n",
       "      <td>4.75</td>\n",
       "    </tr>\n",
       "    <tr>\n",
       "      <th>3</th>\n",
       "      <td>a_a010544</td>\n",
       "      <td>2</td>\n",
       "      <td>-0.250857</td>\n",
       "      <td>9</td>\n",
       "      <td>0</td>\n",
       "      <td>-0.174239</td>\n",
       "      <td>4.50</td>\n",
       "    </tr>\n",
       "    <tr>\n",
       "      <th>4</th>\n",
       "      <td>a_a012058</td>\n",
       "      <td>2</td>\n",
       "      <td>-0.062463</td>\n",
       "      <td>5</td>\n",
       "      <td>0</td>\n",
       "      <td>0.124515</td>\n",
       "      <td>2.50</td>\n",
       "    </tr>\n",
       "  </tbody>\n",
       "</table>\n",
       "</div>"
      ],
      "text/plain": [
       "   TRAVEL_ID  TRAVEL_LENGTH  total_payment  visit_move_cnt  IS_FAILED_TRIP  \\\n",
       "0  a_a014262              2       0.014607               5               1   \n",
       "1  a_a006728              2      -0.310801               5               0   \n",
       "2  a_a015745              4      -0.345055              19               0   \n",
       "3  a_a010544              2      -0.250857               9               0   \n",
       "4  a_a012058              2      -0.062463               5               0   \n",
       "\n",
       "   total_payment_per_day  visit_move_cnt_per_day  \n",
       "0               0.246732                    2.50  \n",
       "1              -0.269297                    2.50  \n",
       "2              -0.452622                    4.75  \n",
       "3              -0.174239                    4.50  \n",
       "4               0.124515                    2.50  "
      ]
     },
     "execution_count": 2,
     "metadata": {},
     "output_type": "execute_result"
    }
   ],
   "source": [
    "# DATA_PATH = '../data/training/final/travel_ml.csv'\n",
    "DATA_PATH = '../data/training/final/travel_insight_pruned.csv'\n",
    "# VAL_DATA_PATH = '../data/validation/final/travel_ml.csv'\n",
    "travel = pd.read_csv(DATA_PATH)\n",
    "# travel_val = pd.read_csv(VAL_DATA_PATH)\n",
    "travel.head()"
   ]
  },
  {
   "cell_type": "code",
   "execution_count": 3,
   "metadata": {},
   "outputs": [],
   "source": [
    "# 학습에 사용할 피처값 선언\n",
    "BINARY_CLASSIFICATION_TARGET = 'IS_FAILED_TRIP'\n",
    "\n",
    "BINARY_CLASSIFICATION_FEATURES = [\n",
    "    'TRAVEL_LENGTH',\n",
    "    'visit_move_cnt',\n",
    "    'total_payment',\n",
    "    'total_payment_per_day',\n",
    "    'visit_move_cnt_per_day'\n",
    "]"
   ]
  },
  {
   "cell_type": "code",
   "execution_count": 4,
   "metadata": {},
   "outputs": [],
   "source": [
    "# 데이터 선언\n",
    "X = travel[BINARY_CLASSIFICATION_FEATURES]\n",
    "y = travel[BINARY_CLASSIFICATION_TARGET]"
   ]
  },
  {
   "cell_type": "code",
   "execution_count": 5,
   "metadata": {},
   "outputs": [],
   "source": [
    "# 데이터 분할\n",
    "X_train, X_test, y_train, y_test = train_test_split(\n",
    "    X, y, random_state=42, test_size=0.3\n",
    ")"
   ]
  },
  {
   "cell_type": "code",
   "execution_count": 6,
   "id": "optuna-optimization-catboost",
   "metadata": {},
   "outputs": [
    {
     "name": "stderr",
     "output_type": "stream",
     "text": [
      "/home/maroco/miniconda3/envs/mini_project/lib/python3.12/site-packages/tqdm/auto.py:21: TqdmWarning: IProgress not found. Please update jupyter and ipywidgets. See https://ipywidgets.readthedocs.io/en/stable/user_install.html\n",
      "  from .autonotebook import tqdm as notebook_tqdm\n",
      "[I 2025-09-27 13:25:47,535] A new study created in memory with name: catboost_optimization\n"
     ]
    },
    {
     "name": "stdout",
     "output_type": "stream",
     "text": [
      "Starting hyperparameter optimization with Optuna for CatBoost...\n"
     ]
    },
    {
     "name": "stderr",
     "output_type": "stream",
     "text": [
      "[I 2025-09-27 13:25:48,978] Trial 0 finished with value: 0.09623189628157174 and parameters: {'iterations': 353, 'learning_rate': 0.10202056592835619, 'depth': 3, 'l2_leaf_reg': 0.2832046983841582, 'border_count': 240}. Best is trial 0 with value: 0.09623189628157174.\n",
      "[I 2025-09-27 13:25:51,707] Trial 1 finished with value: 0.10000032327696251 and parameters: {'iterations': 1155, 'learning_rate': 0.11427081993841838, 'depth': 8, 'l2_leaf_reg': 0.002150900063123601, 'border_count': 156}. Best is trial 1 with value: 0.10000032327696251.\n",
      "[I 2025-09-27 13:25:52,947] Trial 2 finished with value: 0.09177027984240359 and parameters: {'iterations': 1844, 'learning_rate': 0.20644044282959526, 'depth': 6, 'l2_leaf_reg': 0.25371497541986887, 'border_count': 178}. Best is trial 1 with value: 0.10000032327696251.\n",
      "[I 2025-09-27 13:25:55,472] Trial 3 finished with value: 0.10006111762830697 and parameters: {'iterations': 426, 'learning_rate': 0.039943153768275036, 'depth': 10, 'l2_leaf_reg': 0.005613811598729393, 'border_count': 44}. Best is trial 3 with value: 0.10006111762830697.\n",
      "[I 2025-09-27 13:25:56,344] Trial 4 finished with value: 0.09652083400846057 and parameters: {'iterations': 495, 'learning_rate': 0.01145435485705409, 'depth': 3, 'l2_leaf_reg': 0.06444108071109413, 'border_count': 230}. Best is trial 3 with value: 0.10006111762830697.\n",
      "[I 2025-09-27 13:25:58,876] Trial 5 finished with value: 0.10242170359495269 and parameters: {'iterations': 818, 'learning_rate': 0.13707515860801242, 'depth': 10, 'l2_leaf_reg': 0.1599918666895248, 'border_count': 109}. Best is trial 5 with value: 0.10242170359495269.\n",
      "[I 2025-09-27 13:25:59,725] Trial 6 finished with value: 0.09835525507701261 and parameters: {'iterations': 1151, 'learning_rate': 0.09729305211554408, 'depth': 3, 'l2_leaf_reg': 0.022701997211416556, 'border_count': 140}. Best is trial 5 with value: 0.10242170359495269.\n",
      "[I 2025-09-27 13:26:00,951] Trial 7 finished with value: 0.09533970046121928 and parameters: {'iterations': 1957, 'learning_rate': 0.02664709702861845, 'depth': 5, 'l2_leaf_reg': 0.0018842268985083115, 'border_count': 222}. Best is trial 5 with value: 0.10242170359495269.\n",
      "[I 2025-09-27 13:26:02,559] Trial 8 finished with value: 0.09938570597298255 and parameters: {'iterations': 1530, 'learning_rate': 0.028258769628137, 'depth': 7, 'l2_leaf_reg': 6.816495785166621, 'border_count': 205}. Best is trial 5 with value: 0.10242170359495269.\n",
      "[I 2025-09-27 13:26:03,425] Trial 9 finished with value: 0.0951686182740535 and parameters: {'iterations': 449, 'learning_rate': 0.08943140553710228, 'depth': 3, 'l2_leaf_reg': 0.08466342409306116, 'border_count': 171}. Best is trial 5 with value: 0.10242170359495269.\n",
      "[I 2025-09-27 13:26:05,738] Trial 10 finished with value: 0.09620080618035567 and parameters: {'iterations': 849, 'learning_rate': 0.28835112616863906, 'depth': 10, 'l2_leaf_reg': 2.2485679105242786, 'border_count': 93}. Best is trial 5 with value: 0.10242170359495269.\n",
      "[I 2025-09-27 13:26:07,428] Trial 11 finished with value: 0.10042991818033678 and parameters: {'iterations': 759, 'learning_rate': 0.03990646161690566, 'depth': 10, 'l2_leaf_reg': 0.013451903503781656, 'border_count': 38}. Best is trial 5 with value: 0.10242170359495269.\n",
      "[I 2025-09-27 13:26:08,819] Trial 12 finished with value: 0.0966226176821405 and parameters: {'iterations': 774, 'learning_rate': 0.05538606276903831, 'depth': 9, 'l2_leaf_reg': 0.014289886102343363, 'border_count': 42}. Best is trial 5 with value: 0.10242170359495269.\n",
      "[I 2025-09-27 13:26:10,404] Trial 13 finished with value: 0.10794478095428887 and parameters: {'iterations': 845, 'learning_rate': 0.013398629066043824, 'depth': 9, 'l2_leaf_reg': 0.7051940349155432, 'border_count': 95}. Best is trial 13 with value: 0.10794478095428887.\n",
      "[I 2025-09-27 13:26:11,955] Trial 14 finished with value: 0.09397060068748471 and parameters: {'iterations': 1404, 'learning_rate': 0.010438849225884554, 'depth': 8, 'l2_leaf_reg': 0.908260480978231, 'border_count': 114}. Best is trial 13 with value: 0.10794478095428887.\n",
      "[I 2025-09-27 13:26:13,418] Trial 15 finished with value: 0.10299109513186047 and parameters: {'iterations': 917, 'learning_rate': 0.01906735501112316, 'depth': 9, 'l2_leaf_reg': 0.6207812835178853, 'border_count': 85}. Best is trial 13 with value: 0.10794478095428887.\n",
      "[I 2025-09-27 13:26:17,626] Trial 16 finished with value: 0.09518378360254712 and parameters: {'iterations': 987, 'learning_rate': 0.0160925417756589, 'depth': 8, 'l2_leaf_reg': 0.9315002078015225, 'border_count': 71}. Best is trial 13 with value: 0.10794478095428887.\n",
      "[I 2025-09-27 13:26:19,090] Trial 17 finished with value: 0.10099025564367403 and parameters: {'iterations': 1347, 'learning_rate': 0.016762056556302186, 'depth': 9, 'l2_leaf_reg': 9.436716636060028, 'border_count': 84}. Best is trial 13 with value: 0.10794478095428887.\n",
      "[I 2025-09-27 13:26:20,310] Trial 18 finished with value: 0.10206704746463394 and parameters: {'iterations': 580, 'learning_rate': 0.018803325145764858, 'depth': 7, 'l2_leaf_reg': 0.8372719432247628, 'border_count': 132}. Best is trial 13 with value: 0.10794478095428887.\n",
      "[I 2025-09-27 13:26:21,321] Trial 19 finished with value: 0.09951679470801097 and parameters: {'iterations': 986, 'learning_rate': 0.023770472646475325, 'depth': 5, 'l2_leaf_reg': 2.3055268895028713, 'border_count': 63}. Best is trial 13 with value: 0.10794478095428887.\n",
      "[I 2025-09-27 13:26:23,919] Trial 20 finished with value: 0.09744458564849143 and parameters: {'iterations': 640, 'learning_rate': 0.05008909301167351, 'depth': 9, 'l2_leaf_reg': 0.46874840568512655, 'border_count': 114}. Best is trial 13 with value: 0.10794478095428887.\n",
      "[I 2025-09-27 13:26:25,643] Trial 21 finished with value: 0.09842144823143142 and parameters: {'iterations': 944, 'learning_rate': 0.14280479943536112, 'depth': 9, 'l2_leaf_reg': 0.15666612017040654, 'border_count': 111}. Best is trial 13 with value: 0.10794478095428887.\n",
      "[I 2025-09-27 13:26:28,616] Trial 22 finished with value: 0.09286090417042658 and parameters: {'iterations': 685, 'learning_rate': 0.01310085026760364, 'depth': 10, 'l2_leaf_reg': 0.04580893046237044, 'border_count': 93}. Best is trial 13 with value: 0.10794478095428887.\n",
      "[I 2025-09-27 13:26:30,442] Trial 23 finished with value: 0.09642369765899864 and parameters: {'iterations': 1052, 'learning_rate': 0.0671522581200688, 'depth': 8, 'l2_leaf_reg': 3.1097199262416964, 'border_count': 74}. Best is trial 13 with value: 0.10794478095428887.\n",
      "[I 2025-09-27 13:26:32,842] Trial 24 finished with value: 0.09824355879564493 and parameters: {'iterations': 1296, 'learning_rate': 0.02041982428849156, 'depth': 9, 'l2_leaf_reg': 0.437880618914807, 'border_count': 107}. Best is trial 13 with value: 0.10794478095428887.\n",
      "[I 2025-09-27 13:26:35,798] Trial 25 finished with value: 0.10231273707218354 and parameters: {'iterations': 815, 'learning_rate': 0.1740686886033679, 'depth': 10, 'l2_leaf_reg': 0.18296993567209346, 'border_count': 131}. Best is trial 13 with value: 0.10794478095428887.\n",
      "[I 2025-09-27 13:26:37,229] Trial 26 finished with value: 0.10403644209080117 and parameters: {'iterations': 885, 'learning_rate': 0.03394775283370095, 'depth': 7, 'l2_leaf_reg': 1.4012441930431527, 'border_count': 60}. Best is trial 13 with value: 0.10794478095428887.\n",
      "[I 2025-09-27 13:26:38,701] Trial 27 finished with value: 0.1025251511955205 and parameters: {'iterations': 1606, 'learning_rate': 0.03337846592353961, 'depth': 6, 'l2_leaf_reg': 4.45530656946576, 'border_count': 56}. Best is trial 13 with value: 0.10794478095428887.\n",
      "[I 2025-09-27 13:26:40,032] Trial 28 finished with value: 0.10529813977521867 and parameters: {'iterations': 1216, 'learning_rate': 0.013977420769940397, 'depth': 7, 'l2_leaf_reg': 1.4871117165297538, 'border_count': 55}. Best is trial 13 with value: 0.10794478095428887.\n",
      "[I 2025-09-27 13:26:41,678] Trial 29 finished with value: 0.10919540062561817 and parameters: {'iterations': 1260, 'learning_rate': 0.014496770087677555, 'depth': 7, 'l2_leaf_reg': 1.5277048861987954, 'border_count': 32}. Best is trial 29 with value: 0.10919540062561817.\n",
      "[I 2025-09-27 13:26:42,777] Trial 30 finished with value: 0.09562262151022934 and parameters: {'iterations': 1251, 'learning_rate': 0.013940766661913065, 'depth': 5, 'l2_leaf_reg': 1.7474861505815673, 'border_count': 54}. Best is trial 29 with value: 0.10919540062561817.\n",
      "[I 2025-09-27 13:26:44,030] Trial 31 finished with value: 0.09718221155399251 and parameters: {'iterations': 1124, 'learning_rate': 0.01397055202688166, 'depth': 7, 'l2_leaf_reg': 1.7028967276827238, 'border_count': 33}. Best is trial 29 with value: 0.10919540062561817.\n",
      "[I 2025-09-27 13:26:45,063] Trial 32 finished with value: 0.10360631860287306 and parameters: {'iterations': 1500, 'learning_rate': 0.01014164931704242, 'depth': 6, 'l2_leaf_reg': 1.3226935486505997, 'border_count': 56}. Best is trial 29 with value: 0.10919540062561817.\n",
      "[I 2025-09-27 13:26:46,414] Trial 33 finished with value: 0.10100784544011292 and parameters: {'iterations': 1218, 'learning_rate': 0.02229236150203099, 'depth': 7, 'l2_leaf_reg': 0.3482327841292398, 'border_count': 69}. Best is trial 29 with value: 0.10919540062561817.\n",
      "[I 2025-09-27 13:26:47,757] Trial 34 finished with value: 0.10680687987742173 and parameters: {'iterations': 1049, 'learning_rate': 0.03068244206861258, 'depth': 6, 'l2_leaf_reg': 4.2080800282650515, 'border_count': 32}. Best is trial 29 with value: 0.10919540062561817.\n",
      "[I 2025-09-27 13:26:48,679] Trial 35 finished with value: 0.10188020961316795 and parameters: {'iterations': 1080, 'learning_rate': 0.012296187137676651, 'depth': 4, 'l2_leaf_reg': 4.557653366021441, 'border_count': 32}. Best is trial 29 with value: 0.10919540062561817.\n",
      "[I 2025-09-27 13:26:52,760] Trial 36 finished with value: 0.098421307227886 and parameters: {'iterations': 311, 'learning_rate': 0.015553558793022787, 'depth': 6, 'l2_leaf_reg': 4.054384254689524, 'border_count': 48}. Best is trial 29 with value: 0.10919540062561817.\n",
      "[I 2025-09-27 13:26:53,790] Trial 37 finished with value: 0.10284137185063762 and parameters: {'iterations': 1715, 'learning_rate': 0.028104825988492954, 'depth': 6, 'l2_leaf_reg': 9.429790797236162, 'border_count': 47}. Best is trial 29 with value: 0.10919540062561817.\n",
      "[I 2025-09-27 13:26:55,632] Trial 38 finished with value: 0.09190977297205727 and parameters: {'iterations': 1188, 'learning_rate': 0.012137979497473925, 'depth': 8, 'l2_leaf_reg': 0.7932045159307325, 'border_count': 250}. Best is trial 29 with value: 0.10919540062561817.\n",
      "[I 2025-09-27 13:26:56,614] Trial 39 finished with value: 0.09466379042170828 and parameters: {'iterations': 1394, 'learning_rate': 0.016358189794615622, 'depth': 4, 'l2_leaf_reg': 0.001065068854478528, 'border_count': 83}. Best is trial 29 with value: 0.10919540062561817.\n"
     ]
    },
    {
     "name": "stdout",
     "output_type": "stream",
     "text": [
      "Optimization finished.\n",
      "Best trial:\n",
      "  Value (PR-AUC): 0.1092\n",
      "  Best Params: \n",
      "    iterations: 1260\n",
      "    learning_rate: 0.014496770087677555\n",
      "    depth: 7\n",
      "    l2_leaf_reg: 1.5277048861987954\n",
      "    border_count: 32\n",
      "Training the best model on the full training data...\n",
      "Best model trained successfully.\n"
     ]
    }
   ],
   "source": [
    "# Hyperparameter 최적화를 위해 Optuna 라이브러리를 설치합니다.\n",
    "try:\n",
    "    import optuna\n",
    "except ImportError:\n",
    "    print(\"Optuna is not installed. Installing now...\")\n",
    "    !pip install optuna\n",
    "    import optuna\n",
    "\n",
    "# Optuna를 사용한 Hyperparameter 최적화\n",
    "from sklearn.model_selection import StratifiedKFold\n",
    "from sklearn.metrics import average_precision_score\n",
    "import numpy as np\n",
    "\n",
    "# 1. Objective 함수 정의\n",
    "def objective(trial):\n",
    "    # CatBoost는 범주형 피처를 직접 처리할 수 있지만, XGBoost 노트북과의 일관성을 위해\n",
    "    # 전처리된 숫자형 데이터를 그대로 사용합니다.\n",
    "\n",
    "    # CatBoost 하이퍼파라미터 탐색 공간 정의\n",
    "    param = {\n",
    "        'objective': 'Logloss',\n",
    "        'eval_metric': 'AUC',\n",
    "        'verbose': 0,\n",
    "        'random_seed': 42,\n",
    "        'auto_class_weights': 'Balanced',  # 클래스 불균형 처리\n",
    "        'iterations': trial.suggest_int('iterations', 300, 2000),\n",
    "        'learning_rate': trial.suggest_float('learning_rate', 0.01, 0.3, log=True),\n",
    "        'depth': trial.suggest_int('depth', 3, 10),\n",
    "        'l2_leaf_reg': trial.suggest_float('l2_leaf_reg', 1e-3, 10.0, log=True),\n",
    "        'border_count': trial.suggest_int('border_count', 32, 255),\n",
    "    }\n",
    "\n",
    "    model = CatBoostClassifier(**param)\n",
    "\n",
    "    cv = StratifiedKFold(n_splits=5, shuffle=True, random_state=42)\n",
    "    \n",
    "    scores = []\n",
    "    for train_idx, val_idx in cv.split(X_train, y_train):\n",
    "        X_train_fold, X_val_fold = X_train.iloc[train_idx], X_train.iloc[val_idx]\n",
    "        y_train_fold, y_val_fold = y_train.iloc[train_idx], y_train.iloc[val_idx]\n",
    "        \n",
    "        model.fit(X_train_fold, y_train_fold,\n",
    "                  eval_set=(X_val_fold, y_val_fold),\n",
    "                  early_stopping_rounds=50,\n",
    "                  verbose=0)\n",
    "        \n",
    "        preds = model.predict_proba(X_val_fold)[:, 1]\n",
    "        pr_auc = average_precision_score(y_val_fold, preds)\n",
    "        scores.append(pr_auc)\n",
    "\n",
    "    return np.mean(scores)\n",
    "\n",
    "# 2. Study 생성 및 최적화 실행\n",
    "print(\"Starting hyperparameter optimization with Optuna for CatBoost...\")\n",
    "study = optuna.create_study(direction='maximize', study_name='catboost_optimization')\n",
    "study.optimize(objective, n_trials=40)\n",
    "\n",
    "# 3. 최적화 결과 확인\n",
    "print(\"Optimization finished.\")\n",
    "print('Best trial:')\n",
    "best_trial = study.best_trial\n",
    "\n",
    "print(f'  Value (PR-AUC): {best_trial.value:.4f}')\n",
    "print('  Best Params: ')\n",
    "for key, value in best_trial.params.items():\n",
    "    print(f'    {key}: {value}')\n",
    "\n",
    "# 4. 최적의 하이퍼파라미터로 모델 재학습\n",
    "print(\"Training the best model on the full training data...\")\n",
    "best_params = best_trial.params\n",
    "best_params['objective'] = 'Logloss'\n",
    "best_params['eval_metric'] = 'AUC'\n",
    "best_params['verbose'] = 0\n",
    "best_params['random_seed'] = 42\n",
    "best_params['auto_class_weights'] = 'Balanced'\n",
    "\n",
    "best_model = CatBoostClassifier(**best_params)\n",
    "best_model.fit(X_train, y_train, eval_set=(X_test, y_test), early_stopping_rounds=50, verbose=0)\n",
    "print(\"Best model trained successfully.\")"
   ]
  },
  {
   "cell_type": "code",
   "execution_count": 7,
   "id": "catboost-eval",
   "metadata": {},
   "outputs": [
    {
     "name": "stdout",
     "output_type": "stream",
     "text": [
      "Decision threshold: 0.50\n",
      "=====Train (BestModel)======================================================================\n",
      "Acc : 0.7951\n",
      "Confusion Matrix\n",
      "[[3106  753]\n",
      " [  73   99]]\n",
      "              precision    recall  f1-score   support\n",
      "\n",
      "           0       0.98      0.80      0.88      3859\n",
      "           1       0.12      0.58      0.19       172\n",
      "\n",
      "    accuracy                           0.80      4031\n",
      "   macro avg       0.55      0.69      0.54      4031\n",
      "weighted avg       0.94      0.80      0.85      4031\n",
      "\n",
      "ROC-AUC : 0.7669\n",
      "PR-AUC  : 0.1258\n",
      "=====Test (BestModel)======================================================================\n",
      "Acc : 0.7679\n",
      "Confusion Matrix\n",
      "[[1286  363]\n",
      " [  38   41]]\n",
      "              precision    recall  f1-score   support\n",
      "\n",
      "           0       0.97      0.78      0.87      1649\n",
      "           1       0.10      0.52      0.17        79\n",
      "\n",
      "    accuracy                           0.77      1728\n",
      "   macro avg       0.54      0.65      0.52      1728\n",
      "weighted avg       0.93      0.77      0.83      1728\n",
      "\n",
      "ROC-AUC : 0.7242\n",
      "PR-AUC  : 0.0972\n"
     ]
    }
   ],
   "source": [
    "# 베스트 모델 평가 (Train/Test)\n",
    "from sklearn.metrics import classification_report, confusion_matrix, accuracy_score, roc_auc_score, average_precision_score\n",
    "\n",
    "threshold = 0.5\n",
    "y_proba_train_gs = best_model.predict_proba(X_train)[:,1]\n",
    "y_proba_test_gs = best_model.predict_proba(X_test)[:,1]\n",
    "y_pred_train_gs = (y_proba_train_gs >= threshold).astype(int)\n",
    "y_pred_test_gs = (y_proba_test_gs >= threshold).astype(int)\n",
    "print(f'Decision threshold: {threshold:.2f}')\n",
    "print('='*5+'Train (BestModel)'+'='*70)\n",
    "print(f'Acc : {accuracy_score(y_train, y_pred_train_gs):.4f}')\n",
    "print('Confusion Matrix')\n",
    "print(confusion_matrix(y_train, y_pred_train_gs))\n",
    "print(classification_report(y_train, y_pred_train_gs))\n",
    "print(f'ROC-AUC : {roc_auc_score(y_train, y_proba_train_gs):.4f}')\n",
    "print(f'PR-AUC  : {average_precision_score(y_train, y_proba_train_gs):.4f}')\n",
    "print('='*5+'Test (BestModel)'+'='*70)\n",
    "print(f'Acc : {accuracy_score(y_test, y_pred_test_gs):.4f}')\n",
    "print('Confusion Matrix')\n",
    "print(confusion_matrix(y_test, y_pred_test_gs))\n",
    "print(classification_report(y_test, y_pred_test_gs))\n",
    "print(f'ROC-AUC : {roc_auc_score(y_test, y_proba_test_gs):.4f}')\n",
    "print(f'PR-AUC  : {average_precision_score(y_test, y_proba_test_gs):.4f}')"
   ]
  },
  {
   "cell_type": "code",
   "execution_count": 8,
   "id": "catboost-tp-export",
   "metadata": {},
   "outputs": [
    {
     "name": "stdout",
     "output_type": "stream",
     "text": [
      "Total true positives in test set: 41\n"
     ]
    }
   ],
   "source": [
    "# True positive rows (predict=1 & true=1)\n",
    "import pandas as pd\n",
    "\n",
    "y_pred_test_series = pd.Series(y_pred_test_gs, index=X_test.index, name='predicted')\n",
    "y_proba_test_series = pd.Series(y_proba_test_gs, index=X_test.index, name='predicted_proba')\n",
    "tp_mask = (y_test == 1) & (y_pred_test_series == 1)\n",
    "tp_df = X_test.loc[tp_mask].copy()\n",
    "tp_df['actual'] = y_test.loc[tp_mask]\n",
    "tp_df['predicted'] = y_pred_test_series.loc[tp_mask]\n",
    "tp_df['predicted_proba'] = y_proba_test_series.loc[tp_mask]\n",
    "print(f'Total true positives in test set: {tp_df.shape[0]}')\n",
    "tp_df.to_csv('TP_traveler_catboost.csv')"
   ]
  },
  {
   "cell_type": "code",
   "execution_count": 9,
   "id": "catboost-tn-export",
   "metadata": {},
   "outputs": [
    {
     "name": "stdout",
     "output_type": "stream",
     "text": [
      "Total true negatives in test set: 1286\n"
     ]
    }
   ],
   "source": [
    "# True negative rows (predict=0 & true=0)\n",
    "import pandas as pd\n",
    "\n",
    "y_pred_test_series = pd.Series(y_pred_test_gs, index=X_test.index, name='predicted')\n",
    "y_proba_test_series = pd.Series(y_proba_test_gs, index=X_test.index, name='predicted_proba')\n",
    "tn_mask = (y_test == 0) & (y_pred_test_series == 0)\n",
    "tn_df = X_test.loc[tn_mask].copy()\n",
    "tn_df['actual'] = y_test.loc[tn_mask]\n",
    "tn_df['predicted'] = y_pred_test_series.loc[tn_mask]\n",
    "tn_df['predicted_proba'] = y_proba_test_series.loc[tn_mask]\n",
    "print(f'Total true negatives in test set: {tn_df.shape[0]}')\n",
    "tn_df.to_csv('TN_traveler_catboost.csv')"
   ]
  },
  {
   "cell_type": "code",
   "execution_count": 10,
   "id": "catboost-importance",
   "metadata": {},
   "outputs": [
    {
     "data": {
      "image/png": "[encoded data removed]",
      "text/plain": [
       "<Figure size 3000x1500 with 1 Axes>"
      ]
     },
     "metadata": {},
     "output_type": "display_data"
    },
    {
     "name": "stdout",
     "output_type": "stream",
     "text": [
      "visit_move_cnt            33.331779\n",
      "visit_move_cnt_per_day    27.202391\n",
      "total_payment_per_day     17.541548\n",
      "total_payment             11.709622\n",
      "TRAVEL_LENGTH             10.214659\n",
      "dtype: float64\n"
     ]
    }
   ],
   "source": [
    "# 특성 중요도 (베스트 모델)\n",
    "import matplotlib.pyplot as plt\n",
    "\n",
    "plt.figure(figsize=(30,15))\n",
    "plt.barh(X.columns, best_model.get_feature_importance())\n",
    "plt.title('Feature importances (Optuna best model)')\n",
    "plt.show()\n",
    "\n",
    "feat_imp = best_model.get_feature_importance()\n",
    "feat_names = X_train.columns\n",
    "feat_imp_ser = pd.Series(feat_imp, index=feat_names)\n",
    "\n",
    "sorted_feature_importances = feat_imp_ser.sort_values(ascending=False)\n",
    "print(sorted_feature_importances)"
   ]
  }
 ],
 "metadata": {
  "kernelspec": {
   "display_name": "mini_project",
   "language": "python",
   "name": "python3"
  },
  "language_info": {
   "codemirror_mode": {
    "name": "ipython",
    "version": 3
   },
   "file_extension": ".py",
   "mimetype": "text/x-python",
   "name": "python",
   "nbconvert_exporter": "python",
   "pygments_lexer": "ipython3",
   "version": "3.12.11"
  }
 },
 "nbformat": 4,
 "nbformat_minor": 5
}
