{
 "cells": [
  {
   "cell_type": "markdown",
   "id": "71f7c17d",
   "metadata": {},
   "source": [
    "# 여행객 데이터 Cleansing"
   ]
  },
  {
   "cell_type": "code",
   "execution_count": 21,
   "id": "a7134015",
   "metadata": {},
   "outputs": [],
   "source": [
    "import numpy as np\n",
    "import pandas as pd\n",
    "import matplotlib.pyplot as plt\n",
    "import matplotlib as mpl\n",
    "import seaborn as sns\n",
    "\n",
    "plt.rc('font', family='Malgun Gothic')  \n",
    "\n",
    "# 음수 기호 깨짐 방지\n",
    "mpl.rcParams['axes.unicode_minus'] = False"
   ]
  },
  {
   "cell_type": "code",
   "execution_count": 15,
   "id": "858c7ffd",
   "metadata": {},
   "outputs": [
    {
     "name": "stdout",
     "output_type": "stream",
     "text": [
      "(2560, 36)\n"
     ]
    },
    {
     "data": {
      "application/vnd.microsoft.datawrangler.viewer.v0+json": {
       "columns": [
        {
         "name": "index",
         "rawType": "int64",
         "type": "integer"
        },
        {
         "name": "TRAVELER_ID",
         "rawType": "object",
         "type": "string"
        },
        {
         "name": "RESIDENCE_SGG_CD",
         "rawType": "int64",
         "type": "integer"
        },
        {
         "name": "GENDER",
         "rawType": "object",
         "type": "string"
        },
        {
         "name": "AGE_GRP",
         "rawType": "int64",
         "type": "integer"
        },
        {
         "name": "EDU_NM",
         "rawType": "int64",
         "type": "integer"
        },
        {
         "name": "EDU_FNSH_SE",
         "rawType": "float64",
         "type": "float"
        },
        {
         "name": "MARR_STTS",
         "rawType": "int64",
         "type": "integer"
        },
        {
         "name": "FAMILY_MEMB",
         "rawType": "int64",
         "type": "integer"
        },
        {
         "name": "JOB_NM",
         "rawType": "int64",
         "type": "integer"
        },
        {
         "name": "JOB_ETC",
         "rawType": "float64",
         "type": "float"
        },
        {
         "name": "INCOME",
         "rawType": "int64",
         "type": "integer"
        },
        {
         "name": "HOUSE_INCOME",
         "rawType": "float64",
         "type": "float"
        },
        {
         "name": "TRAVEL_TERM",
         "rawType": "int64",
         "type": "integer"
        },
        {
         "name": "TRAVEL_NUM",
         "rawType": "int64",
         "type": "integer"
        },
        {
         "name": "TRAVEL_LIKE_SIDO_1",
         "rawType": "int64",
         "type": "integer"
        },
        {
         "name": "TRAVEL_LIKE_SGG_1",
         "rawType": "int64",
         "type": "integer"
        },
        {
         "name": "TRAVEL_LIKE_SIDO_2",
         "rawType": "int64",
         "type": "integer"
        },
        {
         "name": "TRAVEL_LIKE_SGG_2",
         "rawType": "int64",
         "type": "integer"
        },
        {
         "name": "TRAVEL_LIKE_SIDO_3",
         "rawType": "int64",
         "type": "integer"
        },
        {
         "name": "TRAVEL_LIKE_SGG_3",
         "rawType": "int64",
         "type": "integer"
        },
        {
         "name": "TRAVEL_STYL_1",
         "rawType": "int64",
         "type": "integer"
        },
        {
         "name": "TRAVEL_STYL_2",
         "rawType": "int64",
         "type": "integer"
        },
        {
         "name": "TRAVEL_STYL_3",
         "rawType": "int64",
         "type": "integer"
        },
        {
         "name": "TRAVEL_STYL_4",
         "rawType": "int64",
         "type": "integer"
        },
        {
         "name": "TRAVEL_STYL_5",
         "rawType": "int64",
         "type": "integer"
        },
        {
         "name": "TRAVEL_STYL_6",
         "rawType": "int64",
         "type": "integer"
        },
        {
         "name": "TRAVEL_STYL_7",
         "rawType": "int64",
         "type": "integer"
        },
        {
         "name": "TRAVEL_STYL_8",
         "rawType": "int64",
         "type": "integer"
        },
        {
         "name": "TRAVEL_STATUS_RESIDENCE",
         "rawType": "object",
         "type": "string"
        },
        {
         "name": "TRAVEL_STATUS_DESTINATION",
         "rawType": "object",
         "type": "string"
        },
        {
         "name": "TRAVEL_STATUS_ACCOMPANY",
         "rawType": "object",
         "type": "string"
        },
        {
         "name": "TRAVEL_STATUS_YMD",
         "rawType": "object",
         "type": "string"
        },
        {
         "name": "TRAVEL_MOTIVE_1",
         "rawType": "int64",
         "type": "integer"
        },
        {
         "name": "TRAVEL_MOTIVE_2",
         "rawType": "float64",
         "type": "float"
        },
        {
         "name": "TRAVEL_MOTIVE_3",
         "rawType": "float64",
         "type": "float"
        },
        {
         "name": "TRAVEL_COMPANIONS_NUM",
         "rawType": "int64",
         "type": "integer"
        }
       ],
       "ref": "196ba69a-de27-4404-b40c-76e7d1a2c420",
       "rows": [
        [
         "0",
         "e004720",
         "41",
         "여",
         "60",
         "4",
         "1.0",
         "3",
         "3",
         "11",
         null,
         "4",
         "9.0",
         "2",
         "2",
         "11",
         "11500",
         "47",
         "47760",
         "41",
         "41390",
         "2",
         "4",
         "4",
         "4",
         "4",
         "4",
         "5",
         "5",
         "경기도",
         "서울",
         "2인 가족 여행",
         "2023-07-16~2023-07-16",
         "2",
         "6.0",
         null,
         "1"
        ],
        [
         "1",
         "e000914",
         "30",
         "여",
         "20",
         "6",
         "1.0",
         "1",
         "1",
         "3",
         null,
         "4",
         null,
         "3",
         "2",
         "45",
         "45110",
         "26",
         "26230",
         "11",
         "11650",
         "3",
         "6",
         "2",
         "3",
         "2",
         "2",
         "4",
         "1",
         "대전광역시",
         "서울",
         "나홀로 여행",
         "2023-06-03~2023-06-03",
         "1",
         "7.0",
         "10.0",
         "0"
        ],
        [
         "2",
         "e003564",
         "41",
         "여",
         "30",
         "7",
         "1.0",
         "2",
         "4",
         "2",
         null,
         "7",
         "12.0",
         "2",
         "2",
         "42",
         "42210",
         "48",
         "48840",
         "41",
         "41480",
         "1",
         "1",
         "1",
         "3",
         "2",
         "1",
         "1",
         "7",
         "경기도",
         "경기",
         "자녀 동반 여행",
         "2023-06-24~2023-06-24",
         "8",
         "3.0",
         "7.0",
         "3"
        ],
        [
         "3",
         "e000396",
         "41",
         "여",
         "30",
         "6",
         "1.0",
         "2",
         "2",
         "2",
         null,
         "2",
         "5.0",
         "2",
         "1",
         "50",
         "50110",
         "42",
         "42150",
         "44",
         "44825",
         "3",
         "1",
         "2",
         "5",
         "6",
         "6",
         "1",
         "6",
         "경기도",
         "인천",
         "2인 가족 여행",
         "2023-05-20~2023-05-21",
         "9",
         "1.0",
         "7.0",
         "1"
        ],
        [
         "4",
         "e001890",
         "11",
         "남",
         "20",
         "6",
         "1.0",
         "1",
         "4",
         "3",
         null,
         "5",
         "9.0",
         "3",
         "4",
         "42",
         "42210",
         "26",
         "26320",
         "50",
         "50110",
         "6",
         "3",
         "2",
         "3",
         "6",
         "3",
         "5",
         "6",
         "서울특별시",
         "경기",
         "2인 여행(가족 외)",
         "2023-06-04~2023-06-04",
         "3",
         "1.0",
         "5.0",
         "1"
        ]
       ],
       "shape": {
        "columns": 36,
        "rows": 5
       }
      },
      "text/html": [
       "<div>\n",
       "<style scoped>\n",
       "    .dataframe tbody tr th:only-of-type {\n",
       "        vertical-align: middle;\n",
       "    }\n",
       "\n",
       "    .dataframe tbody tr th {\n",
       "        vertical-align: top;\n",
       "    }\n",
       "\n",
       "    .dataframe thead th {\n",
       "        text-align: right;\n",
       "    }\n",
       "</style>\n",
       "<table border=\"1\" class=\"dataframe\">\n",
       "  <thead>\n",
       "    <tr style=\"text-align: right;\">\n",
       "      <th></th>\n",
       "      <th>TRAVELER_ID</th>\n",
       "      <th>RESIDENCE_SGG_CD</th>\n",
       "      <th>GENDER</th>\n",
       "      <th>AGE_GRP</th>\n",
       "      <th>EDU_NM</th>\n",
       "      <th>EDU_FNSH_SE</th>\n",
       "      <th>MARR_STTS</th>\n",
       "      <th>FAMILY_MEMB</th>\n",
       "      <th>JOB_NM</th>\n",
       "      <th>JOB_ETC</th>\n",
       "      <th>...</th>\n",
       "      <th>TRAVEL_STYL_7</th>\n",
       "      <th>TRAVEL_STYL_8</th>\n",
       "      <th>TRAVEL_STATUS_RESIDENCE</th>\n",
       "      <th>TRAVEL_STATUS_DESTINATION</th>\n",
       "      <th>TRAVEL_STATUS_ACCOMPANY</th>\n",
       "      <th>TRAVEL_STATUS_YMD</th>\n",
       "      <th>TRAVEL_MOTIVE_1</th>\n",
       "      <th>TRAVEL_MOTIVE_2</th>\n",
       "      <th>TRAVEL_MOTIVE_3</th>\n",
       "      <th>TRAVEL_COMPANIONS_NUM</th>\n",
       "    </tr>\n",
       "  </thead>\n",
       "  <tbody>\n",
       "    <tr>\n",
       "      <th>0</th>\n",
       "      <td>e004720</td>\n",
       "      <td>41</td>\n",
       "      <td>여</td>\n",
       "      <td>60</td>\n",
       "      <td>4</td>\n",
       "      <td>1.0</td>\n",
       "      <td>3</td>\n",
       "      <td>3</td>\n",
       "      <td>11</td>\n",
       "      <td>NaN</td>\n",
       "      <td>...</td>\n",
       "      <td>5</td>\n",
       "      <td>5</td>\n",
       "      <td>경기도</td>\n",
       "      <td>서울</td>\n",
       "      <td>2인 가족 여행</td>\n",
       "      <td>2023-07-16~2023-07-16</td>\n",
       "      <td>2</td>\n",
       "      <td>6.0</td>\n",
       "      <td>NaN</td>\n",
       "      <td>1</td>\n",
       "    </tr>\n",
       "    <tr>\n",
       "      <th>1</th>\n",
       "      <td>e000914</td>\n",
       "      <td>30</td>\n",
       "      <td>여</td>\n",
       "      <td>20</td>\n",
       "      <td>6</td>\n",
       "      <td>1.0</td>\n",
       "      <td>1</td>\n",
       "      <td>1</td>\n",
       "      <td>3</td>\n",
       "      <td>NaN</td>\n",
       "      <td>...</td>\n",
       "      <td>4</td>\n",
       "      <td>1</td>\n",
       "      <td>대전광역시</td>\n",
       "      <td>서울</td>\n",
       "      <td>나홀로 여행</td>\n",
       "      <td>2023-06-03~2023-06-03</td>\n",
       "      <td>1</td>\n",
       "      <td>7.0</td>\n",
       "      <td>10.0</td>\n",
       "      <td>0</td>\n",
       "    </tr>\n",
       "    <tr>\n",
       "      <th>2</th>\n",
       "      <td>e003564</td>\n",
       "      <td>41</td>\n",
       "      <td>여</td>\n",
       "      <td>30</td>\n",
       "      <td>7</td>\n",
       "      <td>1.0</td>\n",
       "      <td>2</td>\n",
       "      <td>4</td>\n",
       "      <td>2</td>\n",
       "      <td>NaN</td>\n",
       "      <td>...</td>\n",
       "      <td>1</td>\n",
       "      <td>7</td>\n",
       "      <td>경기도</td>\n",
       "      <td>경기</td>\n",
       "      <td>자녀 동반 여행</td>\n",
       "      <td>2023-06-24~2023-06-24</td>\n",
       "      <td>8</td>\n",
       "      <td>3.0</td>\n",
       "      <td>7.0</td>\n",
       "      <td>3</td>\n",
       "    </tr>\n",
       "    <tr>\n",
       "      <th>3</th>\n",
       "      <td>e000396</td>\n",
       "      <td>41</td>\n",
       "      <td>여</td>\n",
       "      <td>30</td>\n",
       "      <td>6</td>\n",
       "      <td>1.0</td>\n",
       "      <td>2</td>\n",
       "      <td>2</td>\n",
       "      <td>2</td>\n",
       "      <td>NaN</td>\n",
       "      <td>...</td>\n",
       "      <td>1</td>\n",
       "      <td>6</td>\n",
       "      <td>경기도</td>\n",
       "      <td>인천</td>\n",
       "      <td>2인 가족 여행</td>\n",
       "      <td>2023-05-20~2023-05-21</td>\n",
       "      <td>9</td>\n",
       "      <td>1.0</td>\n",
       "      <td>7.0</td>\n",
       "      <td>1</td>\n",
       "    </tr>\n",
       "    <tr>\n",
       "      <th>4</th>\n",
       "      <td>e001890</td>\n",
       "      <td>11</td>\n",
       "      <td>남</td>\n",
       "      <td>20</td>\n",
       "      <td>6</td>\n",
       "      <td>1.0</td>\n",
       "      <td>1</td>\n",
       "      <td>4</td>\n",
       "      <td>3</td>\n",
       "      <td>NaN</td>\n",
       "      <td>...</td>\n",
       "      <td>5</td>\n",
       "      <td>6</td>\n",
       "      <td>서울특별시</td>\n",
       "      <td>경기</td>\n",
       "      <td>2인 여행(가족 외)</td>\n",
       "      <td>2023-06-04~2023-06-04</td>\n",
       "      <td>3</td>\n",
       "      <td>1.0</td>\n",
       "      <td>5.0</td>\n",
       "      <td>1</td>\n",
       "    </tr>\n",
       "  </tbody>\n",
       "</table>\n",
       "<p>5 rows × 36 columns</p>\n",
       "</div>"
      ],
      "text/plain": [
       "  TRAVELER_ID  RESIDENCE_SGG_CD GENDER  AGE_GRP  EDU_NM  EDU_FNSH_SE  \\\n",
       "0     e004720                41      여       60       4          1.0   \n",
       "1     e000914                30      여       20       6          1.0   \n",
       "2     e003564                41      여       30       7          1.0   \n",
       "3     e000396                41      여       30       6          1.0   \n",
       "4     e001890                11      남       20       6          1.0   \n",
       "\n",
       "   MARR_STTS  FAMILY_MEMB  JOB_NM  JOB_ETC  ...  TRAVEL_STYL_7  TRAVEL_STYL_8  \\\n",
       "0          3            3      11      NaN  ...              5              5   \n",
       "1          1            1       3      NaN  ...              4              1   \n",
       "2          2            4       2      NaN  ...              1              7   \n",
       "3          2            2       2      NaN  ...              1              6   \n",
       "4          1            4       3      NaN  ...              5              6   \n",
       "\n",
       "   TRAVEL_STATUS_RESIDENCE  TRAVEL_STATUS_DESTINATION  \\\n",
       "0                      경기도                         서울   \n",
       "1                    대전광역시                         서울   \n",
       "2                      경기도                         경기   \n",
       "3                      경기도                         인천   \n",
       "4                    서울특별시                         경기   \n",
       "\n",
       "   TRAVEL_STATUS_ACCOMPANY      TRAVEL_STATUS_YMD  TRAVEL_MOTIVE_1  \\\n",
       "0                 2인 가족 여행  2023-07-16~2023-07-16                2   \n",
       "1                   나홀로 여행  2023-06-03~2023-06-03                1   \n",
       "2                 자녀 동반 여행  2023-06-24~2023-06-24                8   \n",
       "3                 2인 가족 여행  2023-05-20~2023-05-21                9   \n",
       "4              2인 여행(가족 외)  2023-06-04~2023-06-04                3   \n",
       "\n",
       "   TRAVEL_MOTIVE_2  TRAVEL_MOTIVE_3  TRAVEL_COMPANIONS_NUM  \n",
       "0              6.0              NaN                      1  \n",
       "1              7.0             10.0                      0  \n",
       "2              3.0              7.0                      3  \n",
       "3              1.0              7.0                      1  \n",
       "4              1.0              5.0                      1  \n",
       "\n",
       "[5 rows x 36 columns]"
      ]
     },
     "execution_count": 15,
     "metadata": {},
     "output_type": "execute_result"
    }
   ],
   "source": [
    "df = pd.read_csv('./data/tn_traveller_master_여행객 Master_E.csv')\n",
    "\n",
    "print(df.shape) # (2560, 36)\n",
    "df.head()"
   ]
  },
  {
   "cell_type": "code",
   "execution_count": null,
   "id": "8ceda295",
   "metadata": {},
   "outputs": [
    {
     "name": "stdout",
     "output_type": "stream",
     "text": [
      "<class 'pandas.core.frame.DataFrame'>\n",
      "RangeIndex: 2560 entries, 0 to 2559\n",
      "Data columns (total 36 columns):\n",
      " #   Column                     Non-Null Count  Dtype  \n",
      "---  ------                     --------------  -----  \n",
      " 0   TRAVELER_ID                2560 non-null   object \n",
      " 1   RESIDENCE_SGG_CD           2560 non-null   int64  \n",
      " 2   GENDER                     2560 non-null   object \n",
      " 3   AGE_GRP                    2560 non-null   int64  \n",
      " 4   EDU_NM                     2560 non-null   int64  \n",
      " 5   EDU_FNSH_SE                2558 non-null   float64\n",
      " 6   MARR_STTS                  2560 non-null   int64  \n",
      " 7   FAMILY_MEMB                2560 non-null   int64  \n",
      " 8   JOB_NM                     2560 non-null   int64  \n",
      " 9   JOB_ETC                    0 non-null      float64\n",
      " 10  INCOME                     2560 non-null   int64  \n",
      " 11  HOUSE_INCOME               2004 non-null   float64\n",
      " 12  TRAVEL_TERM                2560 non-null   int64  \n",
      " 13  TRAVEL_NUM                 2560 non-null   int64  \n",
      " 14  TRAVEL_LIKE_SIDO_1         2560 non-null   int64  \n",
      " 15  TRAVEL_LIKE_SGG_1          2560 non-null   int64  \n",
      " 16  TRAVEL_LIKE_SIDO_2         2560 non-null   int64  \n",
      " 17  TRAVEL_LIKE_SGG_2          2560 non-null   int64  \n",
      " 18  TRAVEL_LIKE_SIDO_3         2560 non-null   int64  \n",
      " 19  TRAVEL_LIKE_SGG_3          2560 non-null   int64  \n",
      " 20  TRAVEL_STYL_1              2560 non-null   int64  \n",
      " 21  TRAVEL_STYL_2              2560 non-null   int64  \n",
      " 22  TRAVEL_STYL_3              2560 non-null   int64  \n",
      " 23  TRAVEL_STYL_4              2560 non-null   int64  \n",
      " 24  TRAVEL_STYL_5              2560 non-null   int64  \n",
      " 25  TRAVEL_STYL_6              2560 non-null   int64  \n",
      " 26  TRAVEL_STYL_7              2560 non-null   int64  \n",
      " 27  TRAVEL_STYL_8              2560 non-null   int64  \n",
      " 28  TRAVEL_STATUS_RESIDENCE    2560 non-null   object \n",
      " 29  TRAVEL_STATUS_DESTINATION  2560 non-null   object \n",
      " 30  TRAVEL_STATUS_ACCOMPANY    2560 non-null   object \n",
      " 31  TRAVEL_STATUS_YMD          2560 non-null   object \n",
      " 32  TRAVEL_MOTIVE_1            2560 non-null   int64  \n",
      " 33  TRAVEL_MOTIVE_2            2463 non-null   float64\n",
      " 34  TRAVEL_MOTIVE_3            2346 non-null   float64\n",
      " 35  TRAVEL_COMPANIONS_NUM      2560 non-null   int64  \n",
      "dtypes: float64(5), int64(25), object(6)\n",
      "memory usage: 720.1+ KB\n"
     ]
    }
   ],
   "source": [
    "df.info()\n",
    "# EDU_FNSH_SE, JOB_ETC, HOUSE_INCOME, TRAVEL_MOTIVE_3"
   ]
  },
  {
   "cell_type": "markdown",
   "id": "7f865ae9",
   "metadata": {},
   "source": [
    "### 결측치 처리"
   ]
  },
  {
   "cell_type": "code",
   "execution_count": 17,
   "id": "25ad46aa",
   "metadata": {},
   "outputs": [],
   "source": [
    "# JOB_ETC 삭제\n",
    "if \"JOB_ETC\" in df.columns:\n",
    "    df = df.drop(columns=[\"JOB_ETC\"])\n",
    "\n",
    "# EDU_FNSH_SE → 최빈값 대체\n",
    "df[\"EDU_FNSH_SE\"] = df[\"EDU_FNSH_SE\"].fillna(df[\"EDU_FNSH_SE\"].mode()[0])\n",
    "\n",
    "# HOUSE_INCOME → 중앙값 대체\n",
    "df[\"HOUSE_INCOME\"] = df[\"HOUSE_INCOME\"].fillna(df[\"HOUSE_INCOME\"].median())\n",
    "\n",
    "# TRAVEL_MOTIVE_2,3 → 0 대체\n",
    "for col in [\"TRAVEL_MOTIVE_2\", \"TRAVEL_MOTIVE_3\"]:\n",
    "    df[col] = df[col].fillna(0)"
   ]
  },
  {
   "cell_type": "markdown",
   "id": "640da807",
   "metadata": {},
   "source": [
    "### 이상치 처리"
   ]
  },
  {
   "cell_type": "code",
   "execution_count": 18,
   "id": "492d5be4",
   "metadata": {},
   "outputs": [],
   "source": [
    "numeric_cols = df.select_dtypes(include=[\"int64\", \"float64\"]).columns\n",
    "\n",
    "def remove_outliers_iqr(dataframe, column):\n",
    "    Q1 = dataframe[column].quantile(0.25)\n",
    "    Q3 = dataframe[column].quantile(0.75)\n",
    "    IQR = Q3 - Q1\n",
    "    lower = Q1 - 1.5 * IQR\n",
    "    upper = Q3 + 1.5 * IQR\n",
    "    return dataframe[(dataframe[column] >= lower) & (dataframe[column] <= upper)]\n",
    "\n",
    "for col in numeric_cols:\n",
    "    df = remove_outliers_iqr(df, col)"
   ]
  },
  {
   "cell_type": "markdown",
   "id": "66418af4",
   "metadata": {},
   "source": [
    "### 시각화"
   ]
  },
  {
   "cell_type": "code",
   "execution_count": null,
   "id": "5c26b6a0",
   "metadata": {},
   "outputs": [
    {
     "name": "stderr",
     "output_type": "stream",
     "text": [
      "C:\\Users\\Playdata\\AppData\\Local\\Temp\\ipykernel_3028\\1178032274.py:7: FutureWarning: \n",
      "\n",
      "Passing `palette` without assigning `hue` is deprecated and will be removed in v0.14.0. Assign the `x` variable to `hue` and set `legend=False` for the same effect.\n",
      "\n",
      "  sns.barplot(x=accompany_counts.index,\n"
     ]
    },
    {
     "data": {
      "image/png": "[encoded data removed]",
      "text/plain": [
       "<Figure size 1000x600 with 1 Axes>"
      ]
     },
     "metadata": {},
     "output_type": "display_data"
    }
   ],
   "source": [
    "# 동행자별\n",
    "accompany_counts = df[\"TRAVEL_STATUS_ACCOMPANY\"].value_counts()\n",
    "\n",
    "plt.figure(figsize=(10,6))\n",
    "sns.barplot(x=accompany_counts.index,\n",
    "            y=accompany_counts.values,\n",
    "            palette=\"viridis\")\n",
    "\n",
    "plt.title(\"여행 동반 유형 분포\", fontsize=14)\n",
    "plt.xlabel(\"여행 동반 유형\")\n",
    "plt.ylabel(\"빈도수\")\n",
    "plt.xticks(rotation=45, ha=\"right\")\n",
    "plt.show()"
   ]
  },
  {
   "cell_type": "code",
   "execution_count": null,
   "id": "95db2157",
   "metadata": {},
   "outputs": [
    {
     "data": {
      "image/png": "[encoded data removed]",
      "text/plain": [
       "<Figure size 1000x600 with 2 Axes>"
      ]
     },
     "metadata": {},
     "output_type": "display_data"
    }
   ],
   "source": [
    "# 동반 인원 수\n",
    "companions_age = pd.crosstab(df[\"AGE_GRP\"], df[\"TRAVEL_COMPANIONS_NUM\"])\n",
    "plt.figure(figsize=(10,6))\n",
    "sns.heatmap(companions_age, cmap=\"YlGnBu\", annot=True, fmt=\"d\")\n",
    "plt.title(\"연령대별 동반 인원 수 히트맵\")\n",
    "plt.xlabel(\"동반 인원 수\")\n",
    "plt.ylabel(\"연령대\")\n",
    "plt.show()"
   ]
  },
  {
   "cell_type": "code",
   "execution_count": null,
   "id": "ae12b0b0",
   "metadata": {},
   "outputs": [
    {
     "data": {
      "image/png": "[encoded data removed]",
      "text/plain": [
       "<Figure size 600x600 with 1 Axes>"
      ]
     },
     "metadata": {},
     "output_type": "display_data"
    }
   ],
   "source": [
    "# 성별 분포\n",
    "gender_counts = df[\"GENDER\"].value_counts()\n",
    "plt.figure(figsize=(6,6))\n",
    "plt.pie(gender_counts, labels=gender_counts.index, autopct=\"%.1f%%\", \n",
    "        startangle=90, colors=sns.color_palette(\"Set2\"))\n",
    "plt.title(\"성별 비율 (파이차트)\")\n",
    "plt.show()"
   ]
  },
  {
   "cell_type": "code",
   "execution_count": null,
   "id": "61a0a4f4",
   "metadata": {},
   "outputs": [
    {
     "name": "stderr",
     "output_type": "stream",
     "text": [
      "C:\\Users\\Playdata\\AppData\\Local\\Temp\\ipykernel_3028\\958763969.py:3: FutureWarning: \n",
      "\n",
      "`shade` is now deprecated in favor of `fill`; setting `fill=True`.\n",
      "This will become an error in seaborn v0.14.0; please update your code.\n",
      "\n",
      "  sns.kdeplot(df[\"AGE_GRP\"], shade=True, color=\"blue\")\n"
     ]
    },
    {
     "data": {
      "image/png": "[encoded data removed]",
      "text/plain": [
       "<Figure size 800x500 with 1 Axes>"
      ]
     },
     "metadata": {},
     "output_type": "display_data"
    }
   ],
   "source": [
    "# 연령대 분포\n",
    "plt.figure(figsize=(8,5))\n",
    "sns.kdeplot(df[\"AGE_GRP\"], shade=True, color=\"blue\")\n",
    "plt.title(\"연령대 분포 (KDE)\")\n",
    "plt.xlabel(\"연령대\")\n",
    "plt.ylabel(\"밀도\")\n",
    "plt.show()"
   ]
  }
 ],
 "metadata": {
  "kernelspec": {
   "display_name": "pystudy_env",
   "language": "python",
   "name": "python3"
  },
  "language_info": {
   "codemirror_mode": {
    "name": "ipython",
    "version": 3
   },
   "file_extension": ".py",
   "mimetype": "text/x-python",
   "name": "python",
   "nbconvert_exporter": "python",
   "pygments_lexer": "ipython3",
   "version": "3.12.11"
  }
 },
 "nbformat": 4,
 "nbformat_minor": 5
}
