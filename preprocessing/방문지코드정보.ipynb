{
 "cells": [
  {
   "cell_type": "code",
   "execution_count": 2,
   "id": "64a25fbb",
   "metadata": {},
   "outputs": [],
   "source": [
    "import numpy as np\n",
    "import pandas as pd \n",
    "import seaborn as sns\n",
    "import matplotlib.pyplot as plt\n",
    "import matplotlib.font_manager as fm\n",
    "font_path = r'C:\\Windows\\Fonts\\HMFMMUEX.TTC'\n",
    "font_name = fm.FontProperties(fname=font_path).get_name()\n",
    "plt.rc('font', family=font_name)\n",
    "plt.rcParams['axes.unicode_minus'] = False"
   ]
  },
  {
   "cell_type": "markdown",
   "id": "f3aee2c1",
   "metadata": {},
   "source": [
    "### 코드정보"
   ]
  },
  {
   "cell_type": "code",
   "execution_count": 18,
   "id": "ebdc7525",
   "metadata": {},
   "outputs": [],
   "source": [
    "codea = pd.read_csv('data/tc_codea_코드A.csv')\n",
    "codeb = pd.read_csv('data/tc_codeb_코드B.csv')"
   ]
  },
  {
   "cell_type": "markdown",
   "id": "5a6087bb",
   "metadata": {},
   "source": [
    "#### VISIT_AREA_TYPE_CD\n",
    "\n",
    "- 방문지유형코드\n",
    "- 코드명 : VIS"
   ]
  },
  {
   "cell_type": "code",
   "execution_count": 20,
   "id": "433eca32",
   "metadata": {},
   "outputs": [
    {
     "data": {
      "text/html": [
       "<div>\n",
       "<style scoped>\n",
       "    .dataframe tbody tr th:only-of-type {\n",
       "        vertical-align: middle;\n",
       "    }\n",
       "\n",
       "    .dataframe tbody tr th {\n",
       "        vertical-align: top;\n",
       "    }\n",
       "\n",
       "    .dataframe thead th {\n",
       "        text-align: right;\n",
       "    }\n",
       "</style>\n",
       "<table border=\"1\" class=\"dataframe\">\n",
       "  <thead>\n",
       "    <tr style=\"text-align: right;\">\n",
       "      <th></th>\n",
       "      <th>idx</th>\n",
       "      <th>cd_a</th>\n",
       "      <th>cd_nm</th>\n",
       "      <th>cd_memo</th>\n",
       "      <th>cd_memo2</th>\n",
       "      <th>del_flag</th>\n",
       "      <th>order_num</th>\n",
       "      <th>perm_write</th>\n",
       "      <th>perm_edit</th>\n",
       "      <th>perm_delete</th>\n",
       "      <th>ins_dt</th>\n",
       "      <th>edit_dt</th>\n",
       "    </tr>\n",
       "  </thead>\n",
       "  <tbody>\n",
       "    <tr>\n",
       "      <th>1</th>\n",
       "      <td>6</td>\n",
       "      <td>VIS</td>\n",
       "      <td>방문지유형코드</td>\n",
       "      <td>NaN</td>\n",
       "      <td>NaN</td>\n",
       "      <td>N</td>\n",
       "      <td>999</td>\n",
       "      <td>N</td>\n",
       "      <td>N</td>\n",
       "      <td>N</td>\n",
       "      <td>2022-07-05 10:45:53</td>\n",
       "      <td>NaN</td>\n",
       "    </tr>\n",
       "  </tbody>\n",
       "</table>\n",
       "</div>"
      ],
      "text/plain": [
       "   idx cd_a    cd_nm cd_memo  cd_memo2 del_flag  order_num perm_write  \\\n",
       "1    6  VIS  방문지유형코드     NaN       NaN        N        999          N   \n",
       "\n",
       "  perm_edit perm_delete               ins_dt  edit_dt  \n",
       "1         N           N  2022-07-05 10:45:53      NaN  "
      ]
     },
     "execution_count": 20,
     "metadata": {},
     "output_type": "execute_result"
    }
   ],
   "source": [
    "codea[codea['cd_a'] == 'VIS']"
   ]
  },
  {
   "cell_type": "code",
   "execution_count": 27,
   "id": "1e8d3360",
   "metadata": {},
   "outputs": [],
   "source": [
    "vis_code = codeb[codeb['cd_a'] == 'VIS']\n",
    "vis_code = vis_code[['cd_a','cd_b','cd_nm']]\n",
    "vis_code['cd_b'] = vis_code.cd_b.astype(int)\n",
    "vis_code = vis_code.sort_values('cd_b')\n",
    "vis_code = vis_code.reset_index(drop=True)"
   ]
  },
  {
   "cell_type": "code",
   "execution_count": 28,
   "id": "a979b129",
   "metadata": {},
   "outputs": [
    {
     "data": {
      "text/html": [
       "<div>\n",
       "<style scoped>\n",
       "    .dataframe tbody tr th:only-of-type {\n",
       "        vertical-align: middle;\n",
       "    }\n",
       "\n",
       "    .dataframe tbody tr th {\n",
       "        vertical-align: top;\n",
       "    }\n",
       "\n",
       "    .dataframe thead th {\n",
       "        text-align: right;\n",
       "    }\n",
       "</style>\n",
       "<table border=\"1\" class=\"dataframe\">\n",
       "  <thead>\n",
       "    <tr style=\"text-align: right;\">\n",
       "      <th></th>\n",
       "      <th>cd_a</th>\n",
       "      <th>cd_b</th>\n",
       "      <th>cd_nm</th>\n",
       "    </tr>\n",
       "  </thead>\n",
       "  <tbody>\n",
       "    <tr>\n",
       "      <th>0</th>\n",
       "      <td>VIS</td>\n",
       "      <td>1</td>\n",
       "      <td>자연관광지</td>\n",
       "    </tr>\n",
       "    <tr>\n",
       "      <th>1</th>\n",
       "      <td>VIS</td>\n",
       "      <td>2</td>\n",
       "      <td>역사/유적/종교 시설(문화재, 박물관, 촬영지, 절 등)</td>\n",
       "    </tr>\n",
       "    <tr>\n",
       "      <th>2</th>\n",
       "      <td>VIS</td>\n",
       "      <td>3</td>\n",
       "      <td>문화 시설(공연장, 영화관, 전시관 등)</td>\n",
       "    </tr>\n",
       "    <tr>\n",
       "      <th>3</th>\n",
       "      <td>VIS</td>\n",
       "      <td>4</td>\n",
       "      <td>상업지구(거리, 시장, 쇼핑시설)</td>\n",
       "    </tr>\n",
       "    <tr>\n",
       "      <th>4</th>\n",
       "      <td>VIS</td>\n",
       "      <td>5</td>\n",
       "      <td>레저/스포츠 관련 시설(스키, 카트, 수상레저)</td>\n",
       "    </tr>\n",
       "    <tr>\n",
       "      <th>5</th>\n",
       "      <td>VIS</td>\n",
       "      <td>6</td>\n",
       "      <td>테마시설(놀이공원, 워터파크)</td>\n",
       "    </tr>\n",
       "    <tr>\n",
       "      <th>6</th>\n",
       "      <td>VIS</td>\n",
       "      <td>7</td>\n",
       "      <td>산책로, 둘레길 등</td>\n",
       "    </tr>\n",
       "    <tr>\n",
       "      <th>7</th>\n",
       "      <td>VIS</td>\n",
       "      <td>8</td>\n",
       "      <td>지역 축제/행사</td>\n",
       "    </tr>\n",
       "    <tr>\n",
       "      <th>8</th>\n",
       "      <td>VIS</td>\n",
       "      <td>9</td>\n",
       "      <td>역, 터미널, 고속도로 휴게소</td>\n",
       "    </tr>\n",
       "    <tr>\n",
       "      <th>9</th>\n",
       "      <td>VIS</td>\n",
       "      <td>10</td>\n",
       "      <td>상점</td>\n",
       "    </tr>\n",
       "    <tr>\n",
       "      <th>10</th>\n",
       "      <td>VIS</td>\n",
       "      <td>11</td>\n",
       "      <td>식당/카페</td>\n",
       "    </tr>\n",
       "    <tr>\n",
       "      <th>11</th>\n",
       "      <td>VIS</td>\n",
       "      <td>12</td>\n",
       "      <td>기타</td>\n",
       "    </tr>\n",
       "    <tr>\n",
       "      <th>12</th>\n",
       "      <td>VIS</td>\n",
       "      <td>13</td>\n",
       "      <td>체험 활동 관광지</td>\n",
       "    </tr>\n",
       "    <tr>\n",
       "      <th>13</th>\n",
       "      <td>VIS</td>\n",
       "      <td>21</td>\n",
       "      <td>집</td>\n",
       "    </tr>\n",
       "    <tr>\n",
       "      <th>14</th>\n",
       "      <td>VIS</td>\n",
       "      <td>22</td>\n",
       "      <td>친구/친지집</td>\n",
       "    </tr>\n",
       "    <tr>\n",
       "      <th>15</th>\n",
       "      <td>VIS</td>\n",
       "      <td>23</td>\n",
       "      <td>사무실</td>\n",
       "    </tr>\n",
       "    <tr>\n",
       "      <th>16</th>\n",
       "      <td>VIS</td>\n",
       "      <td>24</td>\n",
       "      <td>숙소</td>\n",
       "    </tr>\n",
       "  </tbody>\n",
       "</table>\n",
       "</div>"
      ],
      "text/plain": [
       "   cd_a  cd_b                            cd_nm\n",
       "0   VIS     1                            자연관광지\n",
       "1   VIS     2  역사/유적/종교 시설(문화재, 박물관, 촬영지, 절 등)\n",
       "2   VIS     3           문화 시설(공연장, 영화관, 전시관 등)\n",
       "3   VIS     4               상업지구(거리, 시장, 쇼핑시설)\n",
       "4   VIS     5       레저/스포츠 관련 시설(스키, 카트, 수상레저)\n",
       "5   VIS     6                 테마시설(놀이공원, 워터파크)\n",
       "6   VIS     7                       산책로, 둘레길 등\n",
       "7   VIS     8                         지역 축제/행사\n",
       "8   VIS     9                 역, 터미널, 고속도로 휴게소\n",
       "9   VIS    10                               상점\n",
       "10  VIS    11                            식당/카페\n",
       "11  VIS    12                               기타\n",
       "12  VIS    13                        체험 활동 관광지\n",
       "13  VIS    21                                집\n",
       "14  VIS    22                           친구/친지집\n",
       "15  VIS    23                              사무실\n",
       "16  VIS    24                               숙소"
      ]
     },
     "execution_count": 28,
     "metadata": {},
     "output_type": "execute_result"
    }
   ],
   "source": [
    "vis_code"
   ]
  },
  {
   "cell_type": "markdown",
   "id": "62d8e260",
   "metadata": {},
   "source": [
    "#### VISIT_CHC_REASON_CD\n",
    "\n",
    "- 방문선택이유코드\n",
    "- 코드명 : REN"
   ]
  },
  {
   "cell_type": "code",
   "execution_count": null,
   "id": "6ab76c66",
   "metadata": {},
   "outputs": [],
   "source": []
  },
  {
   "cell_type": "code",
   "execution_count": null,
   "id": "ee5b20d6",
   "metadata": {},
   "outputs": [],
   "source": []
  },
  {
   "cell_type": "markdown",
   "id": "8bcf7aad",
   "metadata": {},
   "source": [
    "#### LODGING_TYPE_CD\n",
    "\n",
    "- 숙소유형코드\n",
    "- 코드명 : HTY"
   ]
  },
  {
   "cell_type": "code",
   "execution_count": null,
   "id": "9d12b25a",
   "metadata": {},
   "outputs": [],
   "source": []
  },
  {
   "cell_type": "code",
   "execution_count": null,
   "id": "d86a91e5",
   "metadata": {},
   "outputs": [],
   "source": []
  },
  {
   "cell_type": "markdown",
   "id": "0b980932",
   "metadata": {},
   "source": [
    "#### DGSTFN\n",
    "\n",
    "- 만족도\n",
    "- 코드명 : DGS"
   ]
  },
  {
   "cell_type": "code",
   "execution_count": null,
   "id": "7ea76e01",
   "metadata": {},
   "outputs": [],
   "source": []
  },
  {
   "cell_type": "code",
   "execution_count": null,
   "id": "e92b1c94",
   "metadata": {},
   "outputs": [],
   "source": []
  },
  {
   "cell_type": "markdown",
   "id": "cc717c93",
   "metadata": {},
   "source": [
    "#### REVISIT_INTENTION\n",
    "\n",
    "- 재방문의향\n",
    "- 코드명 : REP"
   ]
  },
  {
   "cell_type": "code",
   "execution_count": null,
   "id": "8c25838f",
   "metadata": {},
   "outputs": [],
   "source": []
  },
  {
   "cell_type": "code",
   "execution_count": null,
   "id": "080fdf00",
   "metadata": {},
   "outputs": [],
   "source": []
  },
  {
   "cell_type": "code",
   "execution_count": null,
   "id": "faa9c7a6",
   "metadata": {},
   "outputs": [],
   "source": []
  },
  {
   "cell_type": "markdown",
   "id": "4c10b2b5",
   "metadata": {},
   "source": [
    "#### RCMDTN_INTENTION\n",
    "\n",
    "- 추천의향\n",
    "- 코드명 : REC"
   ]
  },
  {
   "cell_type": "code",
   "execution_count": null,
   "id": "0feb38b9",
   "metadata": {},
   "outputs": [],
   "source": []
  },
  {
   "cell_type": "code",
   "execution_count": null,
   "id": "c09b51f8",
   "metadata": {},
   "outputs": [],
   "source": []
  },
  {
   "cell_type": "markdown",
   "id": "aa8c999d",
   "metadata": {},
   "source": [
    "#### SGG_CD\n",
    "\n",
    "- 시군구코드\n",
    "- 파일명 : tc_sgg"
   ]
  },
  {
   "cell_type": "code",
   "execution_count": null,
   "id": "d19bfa4c",
   "metadata": {},
   "outputs": [],
   "source": []
  },
  {
   "cell_type": "code",
   "execution_count": null,
   "id": "41a2aefc",
   "metadata": {},
   "outputs": [],
   "source": []
  },
  {
   "cell_type": "code",
   "execution_count": null,
   "id": "2357642f",
   "metadata": {},
   "outputs": [],
   "source": []
  }
 ],
 "metadata": {
  "kernelspec": {
   "display_name": "ml_env",
   "language": "python",
   "name": "python3"
  },
  "language_info": {
   "codemirror_mode": {
    "name": "ipython",
    "version": 3
   },
   "file_extension": ".py",
   "mimetype": "text/x-python",
   "name": "python",
   "nbconvert_exporter": "python",
   "pygments_lexer": "ipython3",
   "version": "3.12.11"
  }
 },
 "nbformat": 4,
 "nbformat_minor": 5
}
