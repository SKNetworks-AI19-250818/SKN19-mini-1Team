{
 "cells": [
  {
   "cell_type": "markdown",
   "id": "5ae655f6",
   "metadata": {},
   "source": [
    "# 여행 미션-목적 비교 전처리\n",
    "1. 필요한 라이브러리를 불러옵니다.\n",
    "2. 데이터 경로를 확인하고 입출력 위치를 준비합니다.\n",
    "3. 원본 데이터에서 미션 관련 파생 컬럼을 제거합니다.\n",
    "4. `TRAVEL_MISSION_CHECK`와 `TRAIN_PURPOSE`를 정리해 중복과 공백을 없앱니다.\n",
    "5. 두 컬럼을 비교해 미스매치 비율(`MISSION_PURPOSE_GAP_RATIO`)을 계산합니다.\n",
    "6. 결과를 저장하고 주요 컬럼을 미리보기로 확인합니다."
   ]
  },
  {
   "cell_type": "code",
   "execution_count": null,
   "id": "778d6556",
   "metadata": {},
   "outputs": [],
   "source": [
    "# 기본 라이브러리 임포트\n",
    "import pandas as pd\n",
    "from pathlib import Path"
   ]
  },
  {
   "cell_type": "code",
   "execution_count": null,
   "id": "a785fec9",
   "metadata": {},
   "outputs": [],
   "source": [
    "# 데이터 파일과 출력 경로 찾기\n",
    "run_dir = Path.cwd().resolve()\n",
    "search_roots = [run_dir, run_dir.parent, run_dir.parent.parent]\n",
    "input_path = None\n",
    "output_dir = None\n",
    "for root in search_roots:\n",
    "    candidate = root / 'data' / 'training' / 'preprocessing' / 'final_travel_dataset.csv'\n",
    "    if candidate.exists():\n",
    "        input_path = candidate\n",
    "        output_dir = root / 'data' / 'training' / 'final'\n",
    "        break\n",
    "if input_path is None:\n",
    "    raise FileNotFoundError('final_travel_dataset.csv 위치를 찾을 수 없습니다.')\n",
    "output_dir.mkdir(parents=True, exist_ok=True)\n",
    "print(f'입력 파일 경로: {input_path}')\n",
    "print(f'출력 디렉터리: {output_dir}')\n",
    "output_path = output_dir / 'travel_insight_v1.csv'"
   ]
  },
  {
   "cell_type": "code",
   "execution_count": null,
   "id": "e33e6fe1",
   "metadata": {},
   "outputs": [],
   "source": [
    "# 원본 데이터 불러오고 미션 파생 컬럼 제거하기\n",
    "travel_df = pd.read_csv(input_path)\n",
    "print('원본 데이터 모양:', travel_df.shape)\n",
    "mission_cols = [col for col in travel_df.columns if col.startswith('MISSION_CD_')]\n",
    "print('삭제할 미션 파생 컬럼 수:', len(mission_cols))\n",
    "travel_df = travel_df.drop(columns=mission_cols)"
   ]
  },
  {
   "cell_type": "code",
   "execution_count": null,
   "id": "92f1a3fb",
   "metadata": {},
   "outputs": [],
   "source": [
    "# ';'로 연결된 코드를 정렬된 리스트로 바꾸는 보조 함수\n",
    "# 공백과 중복을 제거하고, 초보자도 보기 쉬운 형태로 반환합니다.\n",
    "def parse_codes(raw):\n",
    "    if pd.isna(raw):\n",
    "        return []\n",
    "    tokens = [token.strip() for token in str(raw).split(';') if token.strip()]\n",
    "    return sorted(set(tokens))\n",
    "\n",
    "# 문자열 컬럼을 정리해 다시 ';'로 연결합니다.\n",
    "normalized_mission = travel_df['TRAVEL_MISSION_CHECK'].map(parse_codes)\n",
    "normalized_purpose = travel_df['TRAIN_PURPOSE'].map(parse_codes)\n",
    "travel_df['TRAVEL_MISSION_CHECK'] = normalized_mission.map(lambda codes: ';'.join(codes))\n",
    "travel_df['TRAIN_PURPOSE'] = normalized_purpose.map(lambda codes: ';'.join(codes))"
   ]
  },
  {
   "cell_type": "code",
   "execution_count": null,
   "id": "3b1c249c",
   "metadata": {},
   "outputs": [],
   "source": [
    "# 미션 대비 목적의 미스매치 비율 계산 함수\n",
    "# 예시: mission \"1;22;7\" vs purpose \"2;4\" -> mission_set={1,22,7}, purpose_set={2,4}\n",
    "# 미션에서 목적에 없는 코드 3개 / 전체 미션 3개 = 1.0 (100% 미스매치)\n",
    "def compute_gap(mission_codes, purpose_codes):\n",
    "    if not mission_codes:\n",
    "        return pd.NA\n",
    "    mission_set = set(mission_codes)\n",
    "    purpose_set = set(purpose_codes)\n",
    "    gap_ratio = (len(mission_set - purpose_set)) / len(mission_set)\n",
    "    return round(gap_ratio, 4)\n",
    "\n",
    "travel_df['MISSION_PURPOSE_GAP_RATIO'] = [\n",
    "    compute_gap(mission, purpose)\n",
    "    for mission, purpose in zip(normalized_mission, normalized_purpose)\n",
    "]"
   ]
  },
  {
   "cell_type": "code",
   "execution_count": null,
   "id": "e8c7fd78",
   "metadata": {},
   "outputs": [],
   "source": [
    "# 컬럼 순서를 정리하고 CSV로 저장한 뒤 일부 결과를 확인합니다.\n",
    "base_cols = [\n",
    "    col for col in travel_df.columns\n",
    "    if col not in {'TRAVEL_MISSION_CHECK', 'MISSION_PURPOSE_GAP_RATIO'}\n",
    "]\n",
    "ordered_cols = base_cols + ['TRAVEL_MISSION_CHECK', 'MISSION_PURPOSE_GAP_RATIO']\n",
    "travel_df = travel_df[ordered_cols]\n",
    "travel_df.to_csv(output_path, index=False, encoding='utf-8-sig')\n",
    "print(f'저장 완료: {output_path}')\n",
    "print('마지막 5개 컬럼:', ordered_cols[-5:])\n",
    "print(travel_df[['TRAVEL_MISSION_CHECK', 'TRAIN_PURPOSE', 'MISSION_PURPOSE_GAP_RATIO']].head())"
   ]
  }
 ],
 "metadata": {
  "kernelspec": {
   "display_name": "mini_project",
   "language": "python",
   "name": "python3"
  },
  "language_info": {
   "codemirror_mode": {
    "name": "ipython",
    "version": 3
   },
   "file_extension": ".py",
   "mimetype": "text/x-python",
   "name": "python",
   "nbconvert_exporter": "python",
   "pygments_lexer": "ipython3",
   "version": "3.12.11"
  }
 },
 "nbformat": 4,
 "nbformat_minor": 5
}
