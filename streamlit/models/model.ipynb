{
 "cells": [
  {
   "cell_type": "code",
   "execution_count": 5,
   "id": "e8fb47aa",
   "metadata": {},
   "outputs": [],
   "source": [
    "import argparse\n",
    "import sys\n",
    "from typing import Optional, Dict\n",
    "\n",
    "import joblib\n",
    "import pandas as pd\n",
    "\n",
    "MODEL_PATH = \"catboost_best_model.joblib\"\n",
    "model = joblib.load(MODEL_PATH)"
   ]
  },
  {
   "cell_type": "code",
   "execution_count": 6,
   "id": "d80ebae1",
   "metadata": {},
   "outputs": [
    {
     "data": {
      "text/plain": [
       "['TRIP_DAYS',\n",
       " 'MOVE_CNT',\n",
       " 'activity_payment_sum',\n",
       " 'activity_history_rows',\n",
       " 'payment_persona',\n",
       " 'GENDER',\n",
       " 'AGE_GRP',\n",
       " 'HOUSE_INCOME',\n",
       " 'TRAVEL_MOTIVE_1',\n",
       " 'TRAVEL_STATUS_ACCOMPANY',\n",
       " 'TRAVEL_COMPANIONS_NUM',\n",
       " 'RESIDENCE_SGG_CD',\n",
       " 'move_cnt_per_day',\n",
       " 'activity_payment_sum_per_day',\n",
       " 'activity_history_rows_per_day']"
      ]
     },
     "execution_count": 6,
     "metadata": {},
     "output_type": "execute_result"
    }
   ],
   "source": [
    "model.feature_names_"
   ]
  },
  {
   "cell_type": "code",
   "execution_count": null,
   "id": "1d5271b9",
   "metadata": {},
   "outputs": [],
   "source": []
  },
  {
   "cell_type": "code",
   "execution_count": null,
   "id": "25e488bc",
   "metadata": {},
   "outputs": [],
   "source": []
  }
 ],
 "metadata": {
  "kernelspec": {
   "display_name": "ml_env",
   "language": "python",
   "name": "python3"
  },
  "language_info": {
   "codemirror_mode": {
    "name": "ipython",
    "version": 3
   },
   "file_extension": ".py",
   "mimetype": "text/x-python",
   "name": "python",
   "nbconvert_exporter": "python",
   "pygments_lexer": "ipython3",
   "version": "3.12.11"
  }
 },
 "nbformat": 4,
 "nbformat_minor": 5
}
