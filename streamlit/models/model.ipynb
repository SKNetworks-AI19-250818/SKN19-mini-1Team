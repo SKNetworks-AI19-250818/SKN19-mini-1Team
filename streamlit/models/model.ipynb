{
 "cells": [
  {
   "cell_type": "code",
   "execution_count": 31,
   "id": "e8fb47aa",
   "metadata": {},
   "outputs": [],
   "source": [
    "import argparse\n",
    "import sys\n",
    "from typing import Optional, Dict\n",
    "\n",
    "import joblib\n",
    "import pandas as pd\n",
    "\n",
    "MODEL_PATH = \"catboost_best_model_lite_v2.joblib\"\n",
    "model = joblib.load(MODEL_PATH)\n",
    "\n",
    "test_df = pd.read_csv('test_data.csv')"
   ]
  },
  {
   "cell_type": "code",
   "execution_count": 32,
   "id": "d80ebae1",
   "metadata": {},
   "outputs": [
    {
     "data": {
      "text/plain": [
       "['TRIP_DAYS',\n",
       " 'GENDER',\n",
       " 'AGE_GRP',\n",
       " 'ACTIVITY_TYPE_CD',\n",
       " 'payment_persona',\n",
       " 'TRAVEL_STATUS_ACCOMPANY',\n",
       " 'TRAVEL_COMPANIONS_NUM',\n",
       " 'SEASON']"
      ]
     },
     "execution_count": 32,
     "metadata": {},
     "output_type": "execute_result"
    }
   ],
   "source": [
    "model.feature_names_"
   ]
  },
  {
   "cell_type": "code",
   "execution_count": 24,
   "id": "52527c10",
   "metadata": {},
   "outputs": [],
   "source": [
    "proba = model.predict_proba(test_df)[:,1]"
   ]
  },
  {
   "cell_type": "code",
   "execution_count": 28,
   "id": "25e488bc",
   "metadata": {},
   "outputs": [],
   "source": [
    "test_df['class_1_proba'] = proba"
   ]
  },
  {
   "cell_type": "code",
   "execution_count": 30,
   "id": "11e80fa4",
   "metadata": {},
   "outputs": [],
   "source": [
    "test_df.to_csv('predict_test_data.csv', index=False, encoding='utf-8-sig')"
   ]
  }
 ],
 "metadata": {
  "kernelspec": {
   "display_name": "ml_env",
   "language": "python",
   "name": "python3"
  },
  "language_info": {
   "codemirror_mode": {
    "name": "ipython",
    "version": 3
   },
   "file_extension": ".py",
   "mimetype": "text/x-python",
   "name": "python",
   "nbconvert_exporter": "python",
   "pygments_lexer": "ipython3",
   "version": "3.12.11"
  }
 },
 "nbformat": 4,
 "nbformat_minor": 5
}
